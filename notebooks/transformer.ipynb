{
 "cells": [
  {
   "cell_type": "code",
   "execution_count": 1,
   "id": "be470322-b3ba-48b7-bf5d-b5a94aa7519c",
   "metadata": {},
   "outputs": [
    {
     "name": "stderr",
     "output_type": "stream",
     "text": [
      "/home/mbh/.venvs/base/lib/python3.10/site-packages/tqdm/auto.py:22: TqdmWarning: IProgress not found. Please update jupyter and ipywidgets. See https://ipywidgets.readthedocs.io/en/stable/user_install.html\n",
      "  from .autonotebook import tqdm as notebook_tqdm\n"
     ]
    }
   ],
   "source": [
    "import sys\n",
    "sys.path.append(\"../src/models/transformer\")\n",
    "\n",
    "import os\n",
    "from argparse import ArgumentParser\n",
    "\n",
    "import lightning as pl\n",
    "import torch\n",
    "import numpy as np\n",
    "from gensim.models import Word2Vec\n",
    "from loader import PlaylistDataset\n",
    "from model import TransformerModel\n",
    "from train import MaskedLanguageModel\n",
    "from transform import *"
   ]
  },
  {
   "cell_type": "code",
   "execution_count": 17,
   "id": "7c0c8ec1-564f-4993-97d0-a35473d66a43",
   "metadata": {},
   "outputs": [],
   "source": [
    "PAD_TOKEN = 0\n",
    "\n",
    "MODEL_PATH = \"../models/w2v/song2vec\"\n",
    "DATA_PATH =\"../data/processed/\"\n",
    "\n",
    "NHEADS = 4\n",
    "NLAYERS = 2\n",
    "DROPOUT = .2\n",
    "DHIDDEN = 256\n",
    "\n",
    "SEQLEN = 75\n",
    "PPF = 50000\n",
    "\n",
    "BATCH_SIZE = 1"
   ]
  },
  {
   "cell_type": "code",
   "execution_count": 3,
   "id": "7b331abd-4c60-404f-ae27-2d1a95cb564e",
   "metadata": {},
   "outputs": [
    {
     "data": {
      "text/plain": [
       "<All keys matched successfully>"
      ]
     },
     "execution_count": 3,
     "metadata": {},
     "output_type": "execute_result"
    }
   ],
   "source": [
    "wv = Word2Vec.load(MODEL_PATH).wv\n",
    "dim = wv.vectors.shape[1]\n",
    "# TODO save padding vector\n",
    "embeddings = np.concatenate((np.random.normal(size=(1, dim)), wv.vectors), axis=0)\n",
    "transformer = TransformerModel(\n",
    "    embeddings=torch.tensor(embeddings),\n",
    "    nhead=NHEADS,\n",
    "    nlayers=NLAYERS,\n",
    "    dropout=DROPOUT,\n",
    "    d_hid=DHIDDEN\n",
    ")\n",
    "transformer.load_state_dict(torch.load(\"../models/transformer/transformer_model.pt\", map_location=\"cpu\"))"
   ]
  },
  {
   "cell_type": "code",
   "execution_count": 18,
   "id": "8d0b7210-3d06-4d14-92fb-9985c044d08c",
   "metadata": {},
   "outputs": [
    {
     "name": "stdout",
     "output_type": "stream",
     "text": [
      "['../data/processed/chunk_0.json', '../data/processed/chunk_1.json', '../data/processed/chunk_10.json', '../data/processed/chunk_11.json', '../data/processed/chunk_12.json', '../data/processed/chunk_13.json', '../data/processed/chunk_14.json', '../data/processed/chunk_15.json', '../data/processed/chunk_16.json', '../data/processed/chunk_17.json', '../data/processed/chunk_18.json', '../data/processed/chunk_19.json', '../data/processed/chunk_2.json', '../data/processed/chunk_3.json', '../data/processed/chunk_4.json', '../data/processed/chunk_5.json', '../data/processed/chunk_6.json', '../data/processed/chunk_7.json', '../data/processed/chunk_8.json', '../data/processed/chunk_9.json']\n"
     ]
    }
   ],
   "source": [
    "files = sorted([os.path.join(DATA_PATH, f) for f in os.listdir(DATA_PATH) if \".json\" in f])\n",
    "print(files)\n",
    "\n",
    "transforms = Compose(\n",
    "    RemoveUnknownTracks(wv.key_to_index.keys()),\n",
    "    TrackURI2Idx(wv.key_to_index, offset=1),\n",
    "    PadOrTrim(PAD_TOKEN, SEQLEN),\n",
    "    ToLongTensor()\n",
    ")\n",
    "ds = PlaylistDataset(files, playlist_per_file=PPF, transform=transforms)\n",
    "loader = torch.utils.data.DataLoader(ds, batch_size=BATCH_SIZE, shuffle=False)"
   ]
  },
  {
   "cell_type": "code",
   "execution_count": 27,
   "id": "6cf65d10-e000-4d84-b72a-f4b0603224d9",
   "metadata": {},
   "outputs": [
    {
     "name": "stderr",
     "output_type": "stream",
     "text": [
      "0.26419:   0%|                                                                              | 211/1000000 [00:21<28:38:53,  9.69it/s]\n"
     ]
    },
    {
     "ename": "KeyboardInterrupt",
     "evalue": "",
     "output_type": "error",
     "traceback": [
      "\u001b[0;31m---------------------------------------------------------------------------\u001b[0m",
      "\u001b[0;31mKeyboardInterrupt\u001b[0m                         Traceback (most recent call last)",
      "Cell \u001b[0;32mIn[27], line 13\u001b[0m\n\u001b[1;32m     11\u001b[0m src_mask \u001b[38;5;241m=\u001b[39m torch\u001b[38;5;241m.\u001b[39mtriu(torch\u001b[38;5;241m.\u001b[39mones(seq_len, seq_len), diagonal\u001b[38;5;241m=\u001b[39m\u001b[38;5;241m1\u001b[39m)\u001b[38;5;241m.\u001b[39mbool()\n\u001b[1;32m     12\u001b[0m predictions \u001b[38;5;241m=\u001b[39m transformer(x, src_mask\u001b[38;5;241m=\u001b[39msrc_mask, apply_softmax\u001b[38;5;241m=\u001b[39m\u001b[38;5;28;01mFalse\u001b[39;00m)\n\u001b[0;32m---> 13\u001b[0m topk \u001b[38;5;241m=\u001b[39m \u001b[43mtorch\u001b[49m\u001b[38;5;241;43m.\u001b[39;49m\u001b[43mtopk\u001b[49m\u001b[43m(\u001b[49m\u001b[43mpredictions\u001b[49m\u001b[43m,\u001b[49m\u001b[43m \u001b[49m\u001b[43mK\u001b[49m\u001b[43m,\u001b[49m\u001b[43m \u001b[49m\u001b[43mdim\u001b[49m\u001b[38;5;241;43m=\u001b[39;49m\u001b[38;5;241;43m2\u001b[39;49m\u001b[43m)\u001b[49m\u001b[38;5;241m.\u001b[39mindices\u001b[38;5;241m.\u001b[39msqueeze(\u001b[38;5;241m1\u001b[39m)\n\u001b[1;32m     14\u001b[0m x_ \u001b[38;5;241m=\u001b[39m x\u001b[38;5;241m.\u001b[39mview(\u001b[38;5;241m-\u001b[39m\u001b[38;5;241m1\u001b[39m)\u001b[38;5;241m.\u001b[39mtolist()\n\u001b[1;32m     15\u001b[0m z \u001b[38;5;241m=\u001b[39m []\n",
      "\u001b[0;31mKeyboardInterrupt\u001b[0m: "
     ]
    }
   ],
   "source": [
    "from tqdm import tqdm\n",
    "import numpy as np\n",
    "\n",
    "K = 50\n",
    "\n",
    "result = []\n",
    "with torch.no_grad():\n",
    "    for batch in (pbar := tqdm(loader)):\n",
    "        x = batch[0].view(-1, 1)\n",
    "        seq_len = x.shape[0]\n",
    "        src_mask = torch.triu(torch.ones(seq_len, seq_len), diagonal=1).bool()\n",
    "        predictions = transformer(x, src_mask=src_mask, apply_softmax=False)\n",
    "        topk = torch.topk(predictions, K, dim=2).indices.squeeze(1)\n",
    "        x_ = x.view(-1).tolist()\n",
    "        z = []\n",
    "        for i in range(seq_len-1):\n",
    "            tops = topk[i].tolist()\n",
    "            hits = len(set(tops) & set(x_[i+1:]))\n",
    "            if hits > 0:\n",
    "                z.append(1)\n",
    "            else:\n",
    "                z.append(0)\n",
    "        result.append(np.mean(z))\n",
    "        pbar.set_description(f\"{np.mean(result):.5f}\")"
   ]
  },
  {
   "cell_type": "code",
   "execution_count": null,
   "id": "7a599968-53c7-43d6-91f7-c353caf53c34",
   "metadata": {},
   "outputs": [],
   "source": []
  }
 ],
 "metadata": {
  "kernelspec": {
   "display_name": "Python 3 (ipykernel)",
   "language": "python",
   "name": "python3"
  },
  "language_info": {
   "codemirror_mode": {
    "name": "ipython",
    "version": 3
   },
   "file_extension": ".py",
   "mimetype": "text/x-python",
   "name": "python",
   "nbconvert_exporter": "python",
   "pygments_lexer": "ipython3",
   "version": "3.10.6"
  },
  "vscode": {
   "interpreter": {
    "hash": "3e6204ed4fc59bc3bbfc71ab21939fee5e98ea70c1ac66e16ce0ab1a0426782a"
   }
  }
 },
 "nbformat": 4,
 "nbformat_minor": 5
}

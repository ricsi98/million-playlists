{
 "cells": [
  {
   "cell_type": "code",
   "execution_count": 38,
   "id": "43aa9099-6d18-4bcc-bed1-d0d6414032ce",
   "metadata": {},
   "outputs": [],
   "source": [
    "import numpy as np\n",
    "import random\n",
    "import torch\n",
    "import torch.nn as nn\n",
    "from torch.nn import TransformerEncoderLayer, TransformerEncoder, Embedding\n",
    "from gensim.models import Word2Vec"
   ]
  },
  {
   "cell_type": "code",
   "execution_count": 4,
   "id": "b7e82888-c488-4b72-9b13-68c3ff7f56af",
   "metadata": {},
   "outputs": [],
   "source": [
    "wv = Word2Vec.load(\"../checkpoints/model_final.model\").wv"
   ]
  },
  {
   "cell_type": "code",
   "execution_count": 30,
   "id": "80341712-c11f-4d8e-83c9-27d4b48559e3",
   "metadata": {},
   "outputs": [
    {
     "name": "stdout",
     "output_type": "stream",
     "text": [
      "100 281217\n"
     ]
    },
    {
     "data": {
      "text/plain": [
       "tensor([[ 1.0990,  2.4085,  0.3983,  ...,  0.0845,  0.2064,  2.6756],\n",
       "        [ 0.2235,  5.3773,  2.8357,  ..., -4.8849, -5.0111, -2.0209],\n",
       "        [-2.7695,  4.5329,  0.3006,  ..., -5.3204, -3.4041,  0.4088],\n",
       "        ...,\n",
       "        [-1.1284, -0.0572, -2.2218,  ..., -0.6975,  0.8115, -1.0279],\n",
       "        [ 0.6771,  0.1054,  0.1341,  ...,  0.6022, -0.1027, -0.7091],\n",
       "        [-0.8491, -0.9734, -1.2336,  ...,  0.8185, -0.1867, -1.1534]])"
      ]
     },
     "execution_count": 30,
     "metadata": {},
     "output_type": "execute_result"
    }
   ],
   "source": [
    "# create embedding layer from gensim embeddings\n",
    "print(wv.vector_size, len(wv))\n",
    "embd = Embedding(len(wv), wv.vector_size)\n",
    "embd.weight.data.copy_(torch.tensor(wv.vectors, dtype=torch.float))"
   ]
  },
  {
   "cell_type": "code",
   "execution_count": 108,
   "id": "0ea9c7ca-6488-402a-b9b6-6e1486aafbd1",
   "metadata": {},
   "outputs": [],
   "source": [
    "encoder_layer = TransformerEncoderLayer(wv.vector_size, 10, batch_first=True)\n",
    "encoder = TransformerEncoder(encoder_layer, 3)"
   ]
  },
  {
   "cell_type": "code",
   "execution_count": 109,
   "id": "a244aeea-7524-47da-b7a3-a7ed9fd22dbd",
   "metadata": {},
   "outputs": [],
   "source": [
    "seq = random.choices(list(wv.key_to_index.keys()), k=12)\n",
    "t_seq = torch.tensor([wv.key_to_index[item] for item in seq], dtype=torch.long)"
   ]
  },
  {
   "cell_type": "code",
   "execution_count": 110,
   "id": "78f6b777-e40d-484f-98b8-be3316023744",
   "metadata": {},
   "outputs": [
    {
     "data": {
      "text/plain": [
       "(torch.Size([1, 12, 100]), torch.Size([1, 12, 100]))"
      ]
     },
     "execution_count": 110,
     "metadata": {},
     "output_type": "execute_result"
    }
   ],
   "source": [
    "v = embd(t_seq.view(1,-1))\n",
    "encoder(v).shape, v.shape"
   ]
  },
  {
   "cell_type": "code",
   "execution_count": 111,
   "id": "06af6187-1540-49a8-9d0c-bd81261cccd1",
   "metadata": {},
   "outputs": [
    {
     "data": {
      "text/plain": [
       "torch.Size([1, 12, 100])"
      ]
     },
     "execution_count": 111,
     "metadata": {},
     "output_type": "execute_result"
    }
   ],
   "source": [
    "v.shape"
   ]
  },
  {
   "cell_type": "code",
   "execution_count": 112,
   "id": "ea28195e-c0c7-4109-bc7f-bc6830a81a1f",
   "metadata": {},
   "outputs": [],
   "source": [
    "# mask padding: src_key_padding_mask\n",
    "# mask some items: mask"
   ]
  },
  {
   "cell_type": "code",
   "execution_count": 142,
   "id": "d5caf656-addf-41f5-beff-abdc180e5630",
   "metadata": {},
   "outputs": [
    {
     "data": {
      "text/plain": [
       "tensor([[False, False,  True, False,  True],\n",
       "        [False, False,  True, False,  True],\n",
       "        [False, False,  True, False,  True],\n",
       "        [False, False,  True, False,  True],\n",
       "        [False, False,  True, False,  True]])"
      ]
     },
     "execution_count": 142,
     "metadata": {},
     "output_type": "execute_result"
    }
   ],
   "source": [
    "def generate_attn_mask(seq_mask):\n",
    "    \"\"\"\n",
    "        If a BoolTensor is provided, positions with True are not allowed \n",
    "        to attend while False values will be unchanged.\n",
    "        Softmax goes along -1 dimension\n",
    "    \"\"\"\n",
    "    n = seq_mask.shape[-1]\n",
    "    mask = torch.zeros((n,n), dtype=torch.bool)\n",
    "    mask[:, seq_mask.nonzero()] = True\n",
    "    return mask\n",
    "    \n",
    "mask = generate_attn_mask(torch.Tensor([False, False, True, False, True]))\n",
    "mask"
   ]
  },
  {
   "cell_type": "code",
   "execution_count": 148,
   "id": "286bdf66-19a7-4f38-935a-6e68f93343de",
   "metadata": {},
   "outputs": [
    {
     "data": {
      "text/plain": [
       "(torch.Size([10, 12, 12]), torch.Size([1, 12, 100]))"
      ]
     },
     "execution_count": 148,
     "metadata": {},
     "output_type": "execute_result"
    }
   ],
   "source": [
    "mask = torch.Tensor([False] * v.shape[1])\n",
    "attn_mask = generate_attn_mask(mask).repeat(10,1,1)\n",
    "attn_mask.shape, v.shape, "
   ]
  },
  {
   "cell_type": "code",
   "execution_count": 144,
   "id": "d8d36ab2-1f13-41d6-a491-919ee16c196e",
   "metadata": {},
   "outputs": [
    {
     "data": {
      "text/plain": [
       "tensor(0)"
      ]
     },
     "execution_count": 144,
     "metadata": {},
     "output_type": "execute_result"
    }
   ],
   "source": [
    "attn_mask.sum()"
   ]
  },
  {
   "cell_type": "code",
   "execution_count": 169,
   "id": "cd8b0f2e-8a17-465e-aea2-529bf2da94cc",
   "metadata": {},
   "outputs": [
    {
     "data": {
      "text/plain": [
       "tensor([[[ 0.0812, -0.1265, -0.8604,  ..., -0.1958,  2.6957,  1.0880],\n",
       "         [ 0.2169, -0.0378, -0.5093,  ...,  0.4028,  3.0029,  0.0229],\n",
       "         [ 2.4005,  0.4884, -0.8056,  ...,  0.4309,  0.6416, -0.3111],\n",
       "         ...,\n",
       "         [ 2.2272,  0.7680,  0.0664,  ...,  0.4633,  0.1944, -0.7390],\n",
       "         [ 1.7706,  0.5730, -1.4109,  ...,  0.1600,  1.1616, -0.4409],\n",
       "         [ 1.9712, -0.0155, -1.8148,  ...,  0.3185,  1.3445, -0.2619]]],\n",
       "       grad_fn=<NativeLayerNormBackward0>)"
      ]
     },
     "execution_count": 169,
     "metadata": {},
     "output_type": "execute_result"
    }
   ],
   "source": [
    "out = encoder(v, mask=attn_mask)\n",
    "out"
   ]
  },
  {
   "cell_type": "code",
   "execution_count": 300,
   "id": "64d4c616-62ca-43a4-8011-fa48e10333d9",
   "metadata": {},
   "outputs": [],
   "source": [
    "import json\n",
    "import logging\n",
    "\n",
    "class PlaylistDataset(torch.utils.data.Dataset):\n",
    "    \n",
    "    def __init__(self, files, playlist_per_file, transform=None):\n",
    "        self.files = files\n",
    "        self.current_file_index = -1\n",
    "        self.data = None\n",
    "        self.ppf = playlist_per_file\n",
    "        self.transform = transform\n",
    "        \n",
    "    def __len__(self):\n",
    "        return self.ppf * len(self.files)\n",
    "    \n",
    "    def _load(self, path):\n",
    "        with open(path, \"r\") as f:\n",
    "            self.data = json.load(f)\n",
    "    \n",
    "    def __getitem__(self, index):\n",
    "        file_index = index // self.ppf\n",
    "        offset = index % self.ppf\n",
    "        if self.current_file_index != file_index:\n",
    "            logging.debug(f\"Loading file {self.files[file_index]}\")\n",
    "            self._load(self.files[file_index])\n",
    "            self.current_file_index = file_index\n",
    "        tracks = self.data[\"playlists\"][offset]\n",
    "        \n",
    "        if self.transform is not None:\n",
    "            tracks = self.transform(tracks)\n",
    "        \n",
    "        return tracks\n",
    "\n",
    "    \n",
    "class Compose:\n",
    "    \n",
    "    def __init__(self, *tfs):\n",
    "        self.tfs = tfs\n",
    "        \n",
    "    def __call__(self, x):\n",
    "        for tf in self.tfs:\n",
    "            x = tf(x)\n",
    "        return x\n",
    "    \n",
    "    \n",
    "class RemoveUnknownTracks:\n",
    "    \n",
    "    def __init__(self, known_tracks):\n",
    "        kt = known_tracks\n",
    "        if not isinstance(kt, set):\n",
    "            kt = set(kt)\n",
    "        self.kt = kt\n",
    "        \n",
    "    def __call__(self, x):\n",
    "        return [xi for xi in x if xi in self.kt]\n",
    "    \n",
    "    \n",
    "class TrackURI2Idx:\n",
    "    \n",
    "    def __init__(self, uri2idx, offset=0):\n",
    "        self.offset = offset\n",
    "        self.uri2idx = uri2idx\n",
    "        \n",
    "    def __call__(self, x):\n",
    "        return [self.uri2idx[xi] + self.offset for xi in x]\n",
    "    \n",
    "    \n",
    "class ToLongTensor:\n",
    "    \n",
    "    def __call__(self, x):\n",
    "        return torch.LongTensor(x)\n",
    "    \n",
    "class PadOrTrim:\n",
    "    \n",
    "    def __init__(self, pad_token, target_length):\n",
    "        self.token = pad_token\n",
    "        self.t = target_length\n",
    "    \n",
    "    def __call__(self, x):\n",
    "        if len(x) == self.t:\n",
    "            return x\n",
    "        if len(x) < self.t:\n",
    "            return x + [self.token] * (self.t - len(x))\n",
    "        return x[:self.t]\n",
    "            "
   ]
  },
  {
   "cell_type": "code",
   "execution_count": 301,
   "id": "439e89b4-6aaf-4f77-8cae-7336214af09e",
   "metadata": {},
   "outputs": [
    {
     "data": {
      "text/plain": [
       "['../playlists_data/chunk_0.json',\n",
       " '../playlists_data/chunk_1.json',\n",
       " '../playlists_data/chunk_2.json',\n",
       " '../playlists_data/chunk_3.json',\n",
       " '../playlists_data/chunk_4.json',\n",
       " '../playlists_data/chunk_5.json',\n",
       " '../playlists_data/chunk_6.json',\n",
       " '../playlists_data/chunk_7.json',\n",
       " '../playlists_data/chunk_8.json',\n",
       " '../playlists_data/chunk_9.json',\n",
       " '../playlists_data/chunk_10.json',\n",
       " '../playlists_data/chunk_11.json',\n",
       " '../playlists_data/chunk_12.json',\n",
       " '../playlists_data/chunk_13.json',\n",
       " '../playlists_data/chunk_14.json',\n",
       " '../playlists_data/chunk_15.json',\n",
       " '../playlists_data/chunk_16.json',\n",
       " '../playlists_data/chunk_17.json',\n",
       " '../playlists_data/chunk_18.json',\n",
       " '../playlists_data/chunk_19.json']"
      ]
     },
     "execution_count": 301,
     "metadata": {},
     "output_type": "execute_result"
    }
   ],
   "source": [
    "files = [f\"../playlists_data/chunk_{i}.json\" for i in range(20)]\n",
    "files"
   ]
  },
  {
   "cell_type": "code",
   "execution_count": 302,
   "id": "32ec579d-0321-4bab-a02a-8b0f5db81953",
   "metadata": {},
   "outputs": [],
   "source": [
    "transforms = Compose(\n",
    "    RemoveUnknownTracks(wv.key_to_index.keys()),\n",
    "    TrackURI2Idx(wv.key_to_index, offset=1),\n",
    "    PadOrTrim(0, 20),\n",
    "    ToLongTensor()\n",
    ")\n",
    "\n",
    "ds = PlaylistDataset(files, 50000, transforms)"
   ]
  },
  {
   "cell_type": "code",
   "execution_count": 243,
   "id": "de558937-34a7-41c5-8ee9-913b47437201",
   "metadata": {
    "collapsed": true,
    "jupyter": {
     "outputs_hidden": true,
     "source_hidden": true
    },
    "tags": []
   },
   "outputs": [
    {
     "name": "stderr",
     "output_type": "stream",
     "text": [
      "  5%|██                                       | 49/1000 [00:07<02:02,  7.75it/s]"
     ]
    },
    {
     "name": "stdout",
     "output_type": "stream",
     "text": [
      "Writing ../playlists_data/chunk_0.json\n"
     ]
    },
    {
     "name": "stderr",
     "output_type": "stream",
     "text": [
      " 10%|████                                     | 99/1000 [00:16<02:36,  5.75it/s]"
     ]
    },
    {
     "name": "stdout",
     "output_type": "stream",
     "text": [
      "Writing ../playlists_data/chunk_1.json\n"
     ]
    },
    {
     "name": "stderr",
     "output_type": "stream",
     "text": [
      " 15%|█████▉                                  | 149/1000 [00:26<02:18,  6.14it/s]"
     ]
    },
    {
     "name": "stdout",
     "output_type": "stream",
     "text": [
      "Writing ../playlists_data/chunk_2.json\n"
     ]
    },
    {
     "name": "stderr",
     "output_type": "stream",
     "text": [
      " 20%|███████▉                                | 199/1000 [00:36<01:57,  6.83it/s]"
     ]
    },
    {
     "name": "stdout",
     "output_type": "stream",
     "text": [
      "Writing ../playlists_data/chunk_3.json\n"
     ]
    },
    {
     "name": "stderr",
     "output_type": "stream",
     "text": [
      " 25%|█████████▉                              | 249/1000 [00:46<01:56,  6.45it/s]"
     ]
    },
    {
     "name": "stdout",
     "output_type": "stream",
     "text": [
      "Writing ../playlists_data/chunk_4.json\n"
     ]
    },
    {
     "name": "stderr",
     "output_type": "stream",
     "text": [
      " 30%|███████████▉                            | 299/1000 [00:56<01:53,  6.18it/s]"
     ]
    },
    {
     "name": "stdout",
     "output_type": "stream",
     "text": [
      "Writing ../playlists_data/chunk_5.json\n"
     ]
    },
    {
     "name": "stderr",
     "output_type": "stream",
     "text": [
      " 35%|█████████████▉                          | 349/1000 [01:06<02:38,  4.10it/s]"
     ]
    },
    {
     "name": "stdout",
     "output_type": "stream",
     "text": [
      "Writing ../playlists_data/chunk_6.json\n"
     ]
    },
    {
     "name": "stderr",
     "output_type": "stream",
     "text": [
      " 40%|███████████████▉                        | 399/1000 [01:16<01:41,  5.90it/s]"
     ]
    },
    {
     "name": "stdout",
     "output_type": "stream",
     "text": [
      "Writing ../playlists_data/chunk_7.json\n"
     ]
    },
    {
     "name": "stderr",
     "output_type": "stream",
     "text": [
      " 45%|█████████████████▉                      | 449/1000 [01:27<01:39,  5.56it/s]"
     ]
    },
    {
     "name": "stdout",
     "output_type": "stream",
     "text": [
      "Writing ../playlists_data/chunk_8.json\n"
     ]
    },
    {
     "name": "stderr",
     "output_type": "stream",
     "text": [
      " 50%|███████████████████▉                    | 499/1000 [01:36<01:20,  6.20it/s]"
     ]
    },
    {
     "name": "stdout",
     "output_type": "stream",
     "text": [
      "Writing ../playlists_data/chunk_9.json\n"
     ]
    },
    {
     "name": "stderr",
     "output_type": "stream",
     "text": [
      " 55%|█████████████████████▉                  | 549/1000 [01:46<01:18,  5.71it/s]"
     ]
    },
    {
     "name": "stdout",
     "output_type": "stream",
     "text": [
      "Writing ../playlists_data/chunk_10.json\n"
     ]
    },
    {
     "name": "stderr",
     "output_type": "stream",
     "text": [
      " 60%|███████████████████████▉                | 599/1000 [01:56<01:07,  5.91it/s]"
     ]
    },
    {
     "name": "stdout",
     "output_type": "stream",
     "text": [
      "Writing ../playlists_data/chunk_11.json\n"
     ]
    },
    {
     "name": "stderr",
     "output_type": "stream",
     "text": [
      " 65%|█████████████████████████▉              | 649/1000 [02:06<00:58,  5.97it/s]"
     ]
    },
    {
     "name": "stdout",
     "output_type": "stream",
     "text": [
      "Writing ../playlists_data/chunk_12.json\n"
     ]
    },
    {
     "name": "stderr",
     "output_type": "stream",
     "text": [
      " 70%|███████████████████████████▉            | 699/1000 [02:16<00:52,  5.71it/s]"
     ]
    },
    {
     "name": "stdout",
     "output_type": "stream",
     "text": [
      "Writing ../playlists_data/chunk_13.json\n"
     ]
    },
    {
     "name": "stderr",
     "output_type": "stream",
     "text": [
      " 75%|█████████████████████████████▉          | 749/1000 [02:27<00:43,  5.83it/s]"
     ]
    },
    {
     "name": "stdout",
     "output_type": "stream",
     "text": [
      "Writing ../playlists_data/chunk_14.json\n"
     ]
    },
    {
     "name": "stderr",
     "output_type": "stream",
     "text": [
      " 80%|███████████████████████████████▉        | 799/1000 [02:36<00:49,  4.08it/s]"
     ]
    },
    {
     "name": "stdout",
     "output_type": "stream",
     "text": [
      "Writing ../playlists_data/chunk_15.json\n"
     ]
    },
    {
     "name": "stderr",
     "output_type": "stream",
     "text": [
      " 85%|█████████████████████████████████▉      | 849/1000 [02:46<00:25,  5.93it/s]"
     ]
    },
    {
     "name": "stdout",
     "output_type": "stream",
     "text": [
      "Writing ../playlists_data/chunk_16.json\n"
     ]
    },
    {
     "name": "stderr",
     "output_type": "stream",
     "text": [
      " 90%|███████████████████████████████████▉    | 899/1000 [02:57<00:18,  5.57it/s]"
     ]
    },
    {
     "name": "stdout",
     "output_type": "stream",
     "text": [
      "Writing ../playlists_data/chunk_17.json\n"
     ]
    },
    {
     "name": "stderr",
     "output_type": "stream",
     "text": [
      " 95%|█████████████████████████████████████▉  | 949/1000 [03:07<00:10,  5.08it/s]"
     ]
    },
    {
     "name": "stdout",
     "output_type": "stream",
     "text": [
      "Writing ../playlists_data/chunk_18.json\n"
     ]
    },
    {
     "name": "stderr",
     "output_type": "stream",
     "text": [
      "100%|███████████████████████████████████████▉| 999/1000 [03:17<00:00,  5.83it/s]"
     ]
    },
    {
     "name": "stdout",
     "output_type": "stream",
     "text": [
      "Writing ../playlists_data/chunk_19.json\n"
     ]
    },
    {
     "name": "stderr",
     "output_type": "stream",
     "text": [
      "100%|███████████████████████████████████████| 1000/1000 [03:18<00:00,  5.03it/s]\n"
     ]
    }
   ],
   "source": [
    "\"\"\"\n",
    "import os\n",
    "from tqdm import tqdm\n",
    "\n",
    "BATCH_SIZE = 50000\n",
    "\n",
    "def get_playlists(data):\n",
    "    for plist in data[\"playlists\"]:\n",
    "        sequence = [song[\"track_uri\"] for song in plist[\"tracks\"]]\n",
    "        yield sequence\n",
    "\n",
    "def dump(batch, path):\n",
    "    print(f\"Writing {path}\")\n",
    "    with open(path, \"w\") as f:\n",
    "        json.dump({\"playlists\": batch}, f)\n",
    "        \n",
    "batch = []\n",
    "i = 0\n",
    "for fname in tqdm(list(sorted(os.listdir(\"../data\")))):\n",
    "    if not (fname.startswith(\"mpd.slice.\") and fname.endswith(\".json\")):\n",
    "        continue\n",
    "        \n",
    "    fullpath = os.sep.join((\"../data\", fname))\n",
    "    with open(fullpath, \"r\") as f:\n",
    "        data = json.load(f)\n",
    "    batch += list(get_playlists(data))\n",
    "    \n",
    "    if len(batch) >= BATCH_SIZE:\n",
    "        dump(batch, f\"../playlists_data/chunk_{i}.json\")\n",
    "        batch = []\n",
    "        i += 1\n",
    "        \n",
    "if len(batch) > 0:\n",
    "    dump(batch, f\"../playlists_data/chunk_{i}.json\")\n",
    "\"\"\""
   ]
  },
  {
   "cell_type": "code",
   "execution_count": 303,
   "id": "3f099e0f-aa9a-404b-856b-49fc884a775a",
   "metadata": {},
   "outputs": [],
   "source": [
    "from torch.utils.data import DataLoader"
   ]
  },
  {
   "cell_type": "code",
   "execution_count": 304,
   "id": "4a7bee8b-d5e1-497f-9856-fdee8cd0a8bb",
   "metadata": {},
   "outputs": [],
   "source": [
    "dl = DataLoader(ds, shuffle=False, batch_size=512)"
   ]
  },
  {
   "cell_type": "code",
   "execution_count": 308,
   "id": "d1c1171c-4d8c-4892-aa85-bd9f51609348",
   "metadata": {},
   "outputs": [
    {
     "name": "stdout",
     "output_type": "stream",
     "text": [
      "tensor([  1307,     53,  41116,  51833,      0,   2424,      0,   4191,    162,\n",
      "             0,   2507,   6671,      0,      0,  13741,      0,  85067,    191,\n",
      "          3817, 160357,      0,      0,   4323,  32338,      0,  30586,  10295,\n",
      "             0,     14,    313,  31142,     40,    976,      0,   1607,     35,\n",
      "             0,   1681, 153092, 167702,    675,    359,   5382,   4940,  24167,\n",
      "           361,      0,      0,   1778, 159385,   4531,  13787,      0,    863,\n",
      "             0,    481,      0,      0,  24654,  37324,  28972,      0,    119,\n",
      "         15746,  47823,   3068,  38377,      0,  22133,      0, 212766,    510,\n",
      "         30946,     61,      0,      0, 163122,  60665,      0,      0,  88003,\n",
      "          1131,      0,  76051,  43209,    191, 165599,  22655,   9727,  24915,\n",
      "         22285,  34323,      0,  21196,   4052,   5997,      0,  16815, 102969,\n",
      "         49558,      0,      0,    730,   2210,   3559,    381,   1989,   3488,\n",
      "         22475,  10542,      0,   1925,  27748,      0,      0,   2492,      0,\n",
      "             0,  20598,    847,    210,  19683,      0,     32,   3365,      0,\n",
      "          3176,   1076,      0,    938,  12704,    285,      0,  34096,    334,\n",
      "           142,    747,   7056,    399,  17875,  64611,   2103,   1385,    537,\n",
      "         55781,    835,    242,      0,   1006,  81949,    571,   5330,  50283,\n",
      "           285,   1994,  42120,  10524,   1051,   7415,    540,      0,    534,\n",
      "             0,   6295,    432,      0,   2629, 228438,      0, 120348,   3975,\n",
      "           307,  35177,    563,      0,      0,   7079,      0,     80,     36,\n",
      "             0,  34932,  13625, 106351,  55024,   1744,   1427,      0,      0,\n",
      "        116580,  16015,      0,   3706,      0, 162367,   5874,   4206,  34720,\n",
      "             0,    792,      0,   3165,   5261,  24905,      0,   8900,      0,\n",
      "          1192,   5532,   4166,   9807,   5846,   7661,      0,     95,    110,\n",
      "             0,   4328,    364, 229868,  10339,      0,      0,    957,    147,\n",
      "          1539,  20652,  18797,   3879,      0,  53111, 278203,    324,      0,\n",
      "           408,   1589,    710,   1519,      0,  33067,    668, 171934,      0,\n",
      "          7355, 175803,  38264,   2222,      0,   1167,   2009,  22065,  36363,\n",
      "         52757,    115,    599,  50605,   2495,  19861,   2986,      0,  16705,\n",
      "             0,    382,  20270,   4441,  60480,      0,   2870,    127,   7993,\n",
      "         13699,   7233,      0,      0,    692,   6054,      0,     82,      0,\n",
      "           571,   5361,  27400,   6069,  54358,   1118,    792,  64069,    253,\n",
      "         30839,      0,    821,    669,   2351,   2198,   2953,      0, 115224,\n",
      "         25761,   2163,  11353,      0,  19115,    437,  17571,   2344,   2400,\n",
      "          1321,    352,      0,  26717, 198755,   9888,  28174,      0,    178,\n",
      "          4234,     85,  26456,      0,   2182,  64470,  18386,   8411,   3973,\n",
      "         20436,   6577,    786,      0,   2265,  35421,    735,  11837, 153401,\n",
      "         99599,  19704,  17823,      0,      0,    784,  11957,      0,   1077,\n",
      "         38827,   2074,  23378,      0,      0,      0,   2829,   3915,   5005,\n",
      "          5436, 191431,  18152,   9238,    355, 137644,  10484,  42653,    387,\n",
      "          4277,   1624,   3584,   2410,  10763,   5769,      0,    557,  21176,\n",
      "         20006,   1825,      0,      0,    905,   5618, 189701,  10240,      0,\n",
      "         32614,  81580,   1143,    525,      0,  15645,   4197,    251,    996,\n",
      "             0,   2156,    556,      0,  52715,   2526,   2767,   9396,   4895,\n",
      "          3458,    512,      0,  34166,   2377,  99406, 157452,     50,  15561,\n",
      "           799,  15916,  76936,      0,   4362, 238503,    844,   3298,  39305,\n",
      "             0,      0,   7320,      0,      0, 273836, 259368,  72131,  12100,\n",
      "             0,  12197,      0,    770,   8220,   9049,   2659,  27514,   3451,\n",
      "         49737,   7856,     90,    421,  66061,   2398,  13623,    323,   2207,\n",
      "          6646,    384,   6462,      0,   2071,    745,  89588,   2777,      0,\n",
      "          1102,      0,     55,   6598,    520,   1785,   3420,  30805,   2202,\n",
      "        151945,   6258,      0,    497,  13587,      0,  65669, 240481,      0,\n",
      "           592,  12345,   4420,    270,   3662,   1724,      0,   4164,    806,\n",
      "             0,    583,   3428,    131,      0,      0,  24770,   4409,  11371,\n",
      "             0,   2296,  48170,   1347,      0,   5930,   5704,  21090,  45243,\n",
      "             0,    751,      0,  30647,    176,    781,   1905,     71,      0,\n",
      "           740,  30986,   7337,   5109,   1245,   7478,   4483,  10014])\n"
     ]
    },
    {
     "ename": "NameError",
     "evalue": "name 'asd' is not defined",
     "output_type": "error",
     "traceback": [
      "\u001b[0;31m---------------------------------------------------------------------------\u001b[0m",
      "\u001b[0;31mNameError\u001b[0m                                 Traceback (most recent call last)",
      "Cell \u001b[0;32mIn[308], line 3\u001b[0m\n\u001b[1;32m      1\u001b[0m \u001b[38;5;28;01mfor\u001b[39;00m batch \u001b[38;5;129;01min\u001b[39;00m dl:\n\u001b[1;32m      2\u001b[0m     \u001b[38;5;28mprint\u001b[39m(batch[:, \u001b[38;5;241m-\u001b[39m\u001b[38;5;241m1\u001b[39m])\n\u001b[0;32m----> 3\u001b[0m     \u001b[43masd\u001b[49m\n",
      "\u001b[0;31mNameError\u001b[0m: name 'asd' is not defined"
     ]
    }
   ],
   "source": [
    "for batch in dl:\n",
    "    print(batch[:, -1])\n",
    "    asd"
   ]
  },
  {
   "cell_type": "code",
   "execution_count": 271,
   "id": "865ec918-0d54-461f-9212-cfa280b26cc0",
   "metadata": {},
   "outputs": [
    {
     "ename": "TypeError",
     "evalue": "'list' object cannot be interpreted as an integer",
     "output_type": "error",
     "traceback": [
      "\u001b[0;31m---------------------------------------------------------------------------\u001b[0m",
      "\u001b[0;31mTypeError\u001b[0m                                 Traceback (most recent call last)",
      "Cell \u001b[0;32mIn[271], line 1\u001b[0m\n\u001b[0;32m----> 1\u001b[0m \u001b[38;5;28;43mlen\u001b[39;49m\u001b[43m(\u001b[49m\u001b[43mds\u001b[49m\u001b[43m)\u001b[49m\n",
      "\u001b[0;31mTypeError\u001b[0m: 'list' object cannot be interpreted as an integer"
     ]
    }
   ],
   "source": [
    "len(ds)"
   ]
  },
  {
   "cell_type": "code",
   "execution_count": null,
   "id": "111cf543-42a7-48f8-9274-a3d809807dcf",
   "metadata": {},
   "outputs": [],
   "source": []
  }
 ],
 "metadata": {
  "kernelspec": {
   "display_name": "Python 3 (ipykernel)",
   "language": "python",
   "name": "python3"
  },
  "language_info": {
   "codemirror_mode": {
    "name": "ipython",
    "version": 3
   },
   "file_extension": ".py",
   "mimetype": "text/x-python",
   "name": "python",
   "nbconvert_exporter": "python",
   "pygments_lexer": "ipython3",
   "version": "3.10.6"
  }
 },
 "nbformat": 4,
 "nbformat_minor": 5
}

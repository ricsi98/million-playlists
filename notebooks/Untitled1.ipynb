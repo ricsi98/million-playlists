{
 "cells": [
  {
   "cell_type": "code",
   "execution_count": 4,
   "id": "5f97b024-e3a1-4bc7-bc8d-c6215add750d",
   "metadata": {},
   "outputs": [],
   "source": [
    "from gensim.models import Word2Vec\n",
    "import json"
   ]
  },
  {
   "cell_type": "code",
   "execution_count": 56,
   "id": "2b947405-bf1d-4ad1-b1e4-247e00a9b50d",
   "metadata": {},
   "outputs": [],
   "source": [
    "model = Word2Vec.load(\"../checkpoints/model_39.model\").wv"
   ]
  },
  {
   "cell_type": "code",
   "execution_count": 57,
   "id": "59fe3895-6dfa-4621-94d1-c762c350f4ff",
   "metadata": {},
   "outputs": [],
   "source": [
    "def load_playlists(path):\n",
    "    with open(path, \"r\") as f:\n",
    "        data = json.loads(f.read())[\"playlists\"]\n",
    "    return [[track[\"track_uri\"] for track in pl[\"tracks\"]] for pl in data]\n",
    "        \n",
    "pls = load_playlists(\"../data/mpd.slice.0-999.json\")"
   ]
  },
  {
   "cell_type": "code",
   "execution_count": 58,
   "id": "b734524d-77d2-4ee3-b101-0cb992303840",
   "metadata": {},
   "outputs": [],
   "source": [
    "def hit_ratio(playlist, predict_fn, n_hidden=5):\n",
    "    visible = playlist[:-n_hidden]\n",
    "    hidden = playlist[-n_hidden:]\n",
    "    predictions = predict_fn(visible)\n",
    "    return len(set(hidden) & set(predictions)) / len(hidden)"
   ]
  },
  {
   "cell_type": "code",
   "execution_count": 59,
   "id": "a4c564f1-9921-44a6-a00a-d5511ed0bb26",
   "metadata": {},
   "outputs": [
    {
     "name": "stdout",
     "output_type": "stream",
     "text": [
      "skipped 14\n"
     ]
    }
   ],
   "source": [
    "known_songs = set(model.key_to_index.keys())\n",
    "skipped = 0\n",
    "\n",
    "def predict(songs):\n",
    "    global skipped\n",
    "    songs = list(set(songs) & known_songs)\n",
    "    if len(songs) == 0:\n",
    "        skipped += 1\n",
    "        return []\n",
    "    return [song for song, _ in model.most_similar(positive=songs,topn=500)]\n",
    "\n",
    "hits = [hit_ratio(pl, predict) for pl in pls]\n",
    "print(\"skipped\", skipped)"
   ]
  },
  {
   "cell_type": "code",
   "execution_count": 60,
   "id": "f9d3fd8b-5243-4e14-9330-075dab850d4b",
   "metadata": {},
   "outputs": [
    {
     "data": {
      "text/plain": [
       "(array([363.,   0., 266.,   0., 179., 101.,   0.,   0.,  61.,  30.]),\n",
       " array([0. , 0.1, 0.2, 0.3, 0.4, 0.5, 0.6, 0.7, 0.8, 0.9, 1. ]),\n",
       " <BarContainer object of 10 artists>)"
      ]
     },
     "execution_count": 60,
     "metadata": {},
     "output_type": "execute_result"
    },
    {
     "data": {
      "image/png": "[encoded data removed]",
      "text/plain": [
       "<Figure size 640x480 with 1 Axes>"
      ]
     },
     "metadata": {},
     "output_type": "display_data"
    }
   ],
   "source": [
    "import matplotlib.pyplot as plt\n",
    "\n",
    "plt.hist(hits)"
   ]
  },
  {
   "cell_type": "code",
   "execution_count": 61,
   "id": "7149c886-f5a5-4cec-a95e-14488332ecd9",
   "metadata": {},
   "outputs": [
    {
     "data": {
      "text/plain": [
       "0.26420000000000005"
      ]
     },
     "execution_count": 61,
     "metadata": {},
     "output_type": "execute_result"
    }
   ],
   "source": [
    "import numpy as np\n",
    "np.mean(hits)"
   ]
  },
  {
   "cell_type": "code",
   "execution_count": 62,
   "id": "e72214ff-5600-41c2-8d7c-9eaa9fc54779",
   "metadata": {},
   "outputs": [
    {
     "data": {
      "text/plain": [
       "10000"
      ]
     },
     "execution_count": 62,
     "metadata": {},
     "output_type": "execute_result"
    }
   ],
   "source": [
    "len(load_playlists(\"../../challenge/spotify_million_playlist_dataset_challenge/challenge_set.json\"))"
   ]
  },
  {
   "cell_type": "code",
   "execution_count": null,
   "id": "a29a2bed-b28c-4515-b539-ab56727827a2",
   "metadata": {},
   "outputs": [],
   "source": []
  }
 ],
 "metadata": {
  "kernelspec": {
   "display_name": "Python 3 (ipykernel)",
   "language": "python",
   "name": "python3"
  },
  "language_info": {
   "codemirror_mode": {
    "name": "ipython",
    "version": 3
   },
   "file_extension": ".py",
   "mimetype": "text/x-python",
   "name": "python",
   "nbconvert_exporter": "python",
   "pygments_lexer": "ipython3",
   "version": "3.10.6"
  }
 },
 "nbformat": 4,
 "nbformat_minor": 5
}

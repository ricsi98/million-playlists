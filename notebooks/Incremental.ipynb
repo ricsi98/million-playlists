{
 "cells": [
  {
   "cell_type": "code",
   "execution_count": null,
   "id": "3538ccab-0921-43ad-a96b-38a8d76993d1",
   "metadata": {},
   "outputs": [],
   "source": [
    "import pandas as pd\n",
    "import numpy as np\n",
    "from scipy.sparse import coo_matrix, coo_array\n",
    "from sklearn.decomposition import NMF, TruncatedSVD\n",
    "import matplotlib.pyplot as plt"
   ]
  },
  {
   "cell_type": "code",
   "execution_count": null,
   "id": "91d58bc2-07d7-439b-8f85-0762e55e8b69",
   "metadata": {},
   "outputs": [],
   "source": [
    "events = pd.read_csv(\"/home/mbh/Downloads/events.csv\")\n",
    "events = events[events.event == \"view\"]\n",
    "len(events)"
   ]
  },
  {
   "cell_type": "code",
   "execution_count": null,
   "id": "207a24b2-e33b-47d7-8ccb-f95bedb7e492",
   "metadata": {},
   "outputs": [],
   "source": [
    "K = 10\n",
    "while events.visitorid.value_counts().min() < K or events.itemid.value_counts().min() < K:\n",
    "    vc_usr = events.visitorid.value_counts()\n",
    "    keep_usr = vc_usr[vc_usr >= K].index\n",
    "    vc_item = events.itemid.value_counts()\n",
    "    keep_item = vc_item[vc_item >= K].index\n",
    "    print(keep_usr.min(), keep_item.min())\n",
    "    events = events[events.visitorid.isin(keep_usr) & events.itemid.isin(keep_item)]\n",
    "len(events)\n",
    "events[\"visitorid\"] = events.visitorid.factorize()[0]\n",
    "events[\"itemid\"] = events.itemid.factorize()[0]"
   ]
  },
  {
   "cell_type": "code",
   "execution_count": null,
   "id": "35f1ed41-ff1c-4815-a0f1-d29ebbd95222",
   "metadata": {},
   "outputs": [],
   "source": [
    "def build_mat(df):\n",
    "    df = df[[\"visitorid\", \"itemid\"]].drop_duplicates()\n",
    "    uid, iid = df.visitorid.values, df.itemid.values\n",
    "    nuser = len(set(uid.tolist())), len(set(iid.tolist()))\n",
    "    return coo_matrix((np.ones_like(uid), (uid, iid)))"
   ]
  },
  {
   "cell_type": "code",
   "execution_count": null,
   "id": "278bb655-dbed-4095-a077-94cba773ec1d",
   "metadata": {},
   "outputs": [],
   "source": [
    "mask = events.timestamp < 1438630203944\n",
    "events_train = events[mask]\n",
    "events_test = events[mask]\n",
    "print(mask.mean())\n",
    "\n",
    "mask = events_test.timestamp < 1434643203944\n",
    "events_test_1 = events_test[mask]\n",
    "events_test_2 = events_test[~mask]\n",
    "print(mask.mean())"
   ]
  },
  {
   "cell_type": "code",
   "execution_count": null,
   "id": "ab4ff10e-edea-4b7f-b57a-a289cba47e28",
   "metadata": {},
   "outputs": [],
   "source": [
    "R = build_mat(events_train)\n",
    "Rcsr = R.tocsr()\n",
    "Rcsc = R.tocsc()\n",
    "print(R.shape)"
   ]
  },
  {
   "cell_type": "code",
   "execution_count": null,
   "id": "d90ceacf-39b5-4b0a-b9fc-9189f3ccfa58",
   "metadata": {},
   "outputs": [],
   "source": [
    "class ALS:\n",
    "\n",
    "    def __init__(self, n, m, k, alpha=0.5) -> None:\n",
    "        self.U = np.random.uniform(0,10,(n, k))\n",
    "        self.V = np.random.uniform(0,10,(m, k))\n",
    "        self.alpha = alpha\n",
    "        self.k = k\n",
    "\n",
    "    def rmse(self):\n",
    "        return np.linalg.norm(self.R - self.U @ self.V.T)\n",
    "\n",
    "    def fit(self, R, n_iter, supress=True):\n",
    "        self.R = R\n",
    "        for i in range(n_iter):\n",
    "            self._step()\n",
    "            \n",
    "    def _step(self):\n",
    "        U, V, R, alpha = self.U, self.V, self.R, self.alpha\n",
    "        self.U[:] =  R @ V @ np.linalg.inv(V.T @ V + alpha * np.eye(self.k))\n",
    "        self.V[:] =  R.T @ U @ np.linalg.inv( U.T @ U + alpha * np.eye(self.k))"
   ]
  },
  {
   "cell_type": "code",
   "execution_count": null,
   "id": "5e8055d5-56a1-4bfa-a3c7-39f9851b923e",
   "metadata": {},
   "outputs": [],
   "source": [
    "nuser, nitem = R.shape\n",
    "model = ALS(nuser, nitem, 64, alpha=0)\n",
    "model.fit(R, 150)\n",
    "U, V = model.U, model.V\n",
    "#model = NMF(16)\n",
    "#U = model.fit_transform(R)\n",
    "#V = model.components_.T"
   ]
  },
  {
   "cell_type": "code",
   "execution_count": null,
   "id": "8fb6602b-94a5-4efe-8efa-55c151edbea9",
   "metadata": {},
   "outputs": [],
   "source": [
    "U.shape, V.shape, R.shape"
   ]
  },
  {
   "cell_type": "code",
   "execution_count": null,
   "id": "214d27f0-d929-4b4b-84ae-ae96b54e53b6",
   "metadata": {},
   "outputs": [],
   "source": [
    "plt.hist(np.linalg.norm(U, axis=1), bins=40)\n",
    "plt.yscale(\"log\")"
   ]
  },
  {
   "cell_type": "code",
   "execution_count": null,
   "id": "caeee59c-0f79-4bfe-a6b3-c4519a1cc91c",
   "metadata": {},
   "outputs": [],
   "source": [
    "plt.scatter(np.linalg.norm(U, axis=1).reshape(-1), np.array(R.sum(axis=1)).reshape(-1))\n",
    "plt.yscale(\"log\")\n",
    "plt.xscale(\"log\")\n",
    "plt.xlabel(\"l2 norm\")\n",
    "plt.ylabel(\"# interactions\")"
   ]
  },
  {
   "cell_type": "code",
   "execution_count": null,
   "id": "d8c7a2c1-43dc-4f0a-88c4-76006ed87368",
   "metadata": {},
   "outputs": [],
   "source": [
    "class UserRepr:\n",
    "\n",
    "    def __init__(self, V):\n",
    "        self.A = np.linalg.inv(V.T @ V) @ V.T\n",
    "\n",
    "    def __call__(self, r):\n",
    "        return r.reshape(1,-1).dot(self.A.T).reshape(-1)\n",
    "\n",
    "\n",
    "class Recommender:\n",
    "\n",
    "    def __init__(self, V):\n",
    "        self.V = V\n",
    "\n",
    "    def recommend(self, u, k=None):\n",
    "        scores = self.V.dot(u)\n",
    "        rec = np.argsort(scores)[::-1]\n",
    "        if k is not None:\n",
    "            rec = rec[:k]\n",
    "        return rec\n",
    "\n",
    "def ids2vec(ids, total):\n",
    "    cols = np.array(ids)\n",
    "    ones = np.ones_like(cols)\n",
    "    return coo_matrix((ones, (ones*0, cols)), shape=(1,total)).tocsc()"
   ]
  },
  {
   "cell_type": "code",
   "execution_count": null,
   "id": "3aec03f2-c4a9-48fb-9af2-f5733f73d753",
   "metadata": {},
   "outputs": [],
   "source": [
    "compute_usr = UserRepr(V)\n",
    "rec = Recommender(V)"
   ]
  },
  {
   "cell_type": "code",
   "execution_count": null,
   "id": "335bac12-c13b-4507-8c77-3e63c9d8005b",
   "metadata": {},
   "outputs": [],
   "source": [
    "def recall(y_true, y_pred, k=50):\n",
    "    return len(set(y_true) & set(y_pred)) / min(k, len(y_true))"
   ]
  },
  {
   "cell_type": "code",
   "execution_count": null,
   "id": "bf9e029d-4e0b-495a-a72c-40ccf6f9bbc6",
   "metadata": {},
   "outputs": [],
   "source": [
    "from tqdm import tqdm\n",
    "\n",
    "nuser, nitem = R.shape\n",
    "z = []\n",
    "df = events_test_2\n",
    "for vid in (pbar := tqdm(df.visitorid.unique())):\n",
    "    gt = events_test_2[events_test_2.visitorid == vid].itemid.values\n",
    "    interactions = events_train[events_train.visitorid == vid].itemid.values.tolist() + events_test_1[events_test_1.visitorid == vid].itemid.values.tolist()\n",
    "    l0 = len(interactions)\n",
    "    interactions = list(set(interactions))\n",
    "    delta = l0 - len(interactions)\n",
    "    if delta < 5:\n",
    "        continue\n",
    "    u = compute_usr(ids2vec(interactions, nitem))\n",
    "    r = rec.recommend(u,50)\n",
    "    z.append(recall(gt, r))\n",
    "    pbar.set_description(f\"{np.mean(z)}\")"
   ]
  },
  {
   "cell_type": "code",
   "execution_count": null,
   "id": "119bba4a-7e1e-4598-9033-75e7deca63c9",
   "metadata": {},
   "outputs": [],
   "source": [
    "0.22822295698198428"
   ]
  },
  {
   "cell_type": "code",
   "execution_count": null,
   "id": "9f5a775e-268f-4b1f-b36e-a3cfddca7bd5",
   "metadata": {},
   "outputs": [],
   "source": [
    "\n",
    "def recall(Rcsc, i, r_, k=50):\n",
    "    nz = Rcsc[i].nonzero()[1].tolist()\n",
    "    rec = np.argsort(r_)[::-1][:k]\n",
    "    return len(set(rec) & set(nz)) / min(k,len(nz))\n",
    "    \n",
    "recall(Rcsc, i, V.dot(x(Rcsc[i])), k=500)"
   ]
  },
  {
   "cell_type": "code",
   "execution_count": null,
   "id": "41c065d3-1a43-421a-8055-35eab546902e",
   "metadata": {},
   "outputs": [],
   "source": [
    "thr = 0.001\n",
    "norms = np.linalg.norm(U, axis=1)\n",
    "(norms > thr).nonzero()"
   ]
  },
  {
   "cell_type": "code",
   "execution_count": null,
   "id": "c9d03159-d411-42ac-8029-ffff1a4db0d8",
   "metadata": {},
   "outputs": [],
   "source": [
    "i = 38\n",
    "U[i]"
   ]
  },
  {
   "cell_type": "code",
   "execution_count": null,
   "id": "f58401ff-56d0-4863-af00-4868bfbbc683",
   "metadata": {},
   "outputs": [],
   "source": [
    "x(Rcsr[i])"
   ]
  },
  {
   "cell_type": "code",
   "execution_count": null,
   "id": "46d0d578-e18e-491d-97c0-0d7ab705b5f6",
   "metadata": {},
   "outputs": [],
   "source": [
    "((U[i] - x(Rcsr[i])) ** 2).sum()"
   ]
  },
  {
   "cell_type": "code",
   "execution_count": null,
   "id": "2cc9c3a2-fb01-4a68-92f8-2eaa644c1040",
   "metadata": {},
   "outputs": [],
   "source": [
    "((V.dot(U[i]) - np.array(Rcsc[i].todense()).reshape(-1))**2).mean()"
   ]
  },
  {
   "cell_type": "code",
   "execution_count": null,
   "id": "838ca0cd-3442-4ee4-8d4c-f8c9eb4f44a5",
   "metadata": {},
   "outputs": [],
   "source": [
    "((V.dot(x(Rcsr[i])) - np.array(Rcsc[i].todense()).reshape(-1))**2).mean()"
   ]
  },
  {
   "cell_type": "code",
   "execution_count": null,
   "id": "005a3f73-c45d-4f5a-8624-898e5655ef1f",
   "metadata": {
    "scrolled": true
   },
   "outputs": [],
   "source": [
    "nuser, nitem = R.shape\n",
    "model = ALS(nuser, nitem, 16, alpha=-.5)\n",
    "model.fit(R, 50)"
   ]
  },
  {
   "cell_type": "code",
   "execution_count": null,
   "id": "178d2c26-2de0-4328-bbba-7a1de0c2d071",
   "metadata": {},
   "outputs": [],
   "source": [
    "U, V = model.U, model.V"
   ]
  },
  {
   "cell_type": "code",
   "execution_count": null,
   "id": "1ee5c215-f9b3-4326-9b26-92179c706fad",
   "metadata": {},
   "outputs": [],
   "source": []
  }
 ],
 "metadata": {
  "kernelspec": {
   "display_name": "Python 3 (ipykernel)",
   "language": "python",
   "name": "python3"
  },
  "language_info": {
   "codemirror_mode": {
    "name": "ipython",
    "version": 3
   },
   "file_extension": ".py",
   "mimetype": "text/x-python",
   "name": "python",
   "nbconvert_exporter": "python",
   "pygments_lexer": "ipython3",
   "version": "3.10.6"
  }
 },
 "nbformat": 4,
 "nbformat_minor": 5
}

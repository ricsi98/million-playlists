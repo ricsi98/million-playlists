{
 "cells": [
  {
   "cell_type": "code",
   "execution_count": 27,
   "id": "700f00cf-1618-4b9a-b79c-3325a26cc686",
   "metadata": {},
   "outputs": [],
   "source": [
    "import os\n",
    "import json\n",
    "import sys\n",
    "\n",
    "sys.path.insert(0, \"../src/\")\n",
    "from data.utils import PlaylistIterator"
   ]
  },
  {
   "cell_type": "code",
   "execution_count": 20,
   "id": "c95e47f2-4684-4984-8da8-bd096a3d37f9",
   "metadata": {},
   "outputs": [],
   "source": [
    "files = filter(lambda x: \".json\" in x and \"chunk\" in x, os.listdir(\"../data/processed\"))\n",
    "files = sorted(files, key=lambda x: int(x[6:].split(\".\")[0]))\n",
    "files = list(map(lambda x: os.path.join(\"../data/processed\", x), files))\n",
    "files = files[:-2]"
   ]
  },
  {
   "cell_type": "code",
   "execution_count": 21,
   "id": "1c48663f-4cd2-4d60-9aea-416f87a65ea0",
   "metadata": {},
   "outputs": [],
   "source": [
    "pi = PlaylistIterator(files)"
   ]
  },
  {
   "cell_type": "code",
   "execution_count": 24,
   "id": "c69da1c6-c939-4f2a-8d5b-af96275cf34a",
   "metadata": {},
   "outputs": [
    {
     "name": "stderr",
     "output_type": "stream",
     "text": [
      "100%|████████████████████████████████| 900000/900000 [00:19<00:00, 46778.60it/s]\n"
     ]
    }
   ],
   "source": [
    "from tqdm import tqdm\n",
    "\n",
    "songs = set()\n",
    "\n",
    "for pl in tqdm(pi, total=50000*18):\n",
    "    songs.update(pl)"
   ]
  },
  {
   "cell_type": "code",
   "execution_count": 30,
   "id": "b5a2f8a6-c5be-4d79-8aa5-c2f1549b265b",
   "metadata": {},
   "outputs": [],
   "source": [
    "song2idx = {s: i for i,s in enumerate(songs)}\n",
    "with open(\"../models/sparse/idx2song.json\", \"w\") as f:\n",
    "    json.dump({v:k for k,v in song2idx.items()}, f)"
   ]
  },
  {
   "cell_type": "code",
   "execution_count": 31,
   "id": "7688d9f5-56b7-48c0-a3e0-5fba6fbdecfe",
   "metadata": {},
   "outputs": [
    {
     "name": "stderr",
     "output_type": "stream",
     "text": [
      "  6%|█▊                               | 49656/900000 [00:01<00:27, 31204.52it/s]Exception ignored in: <function tqdm.__del__ at 0x7fddaecc32e0>\n",
      "Traceback (most recent call last):\n",
      "  File \"/home/mbh/.venvs/base/lib/python3.10/site-packages/tqdm/std.py\", line 1162, in __del__\n",
      "    self.close()\n",
      "  File \"/home/mbh/.venvs/base/lib/python3.10/site-packages/tqdm/std.py\", line 1281, in close\n",
      "    if self.disable:\n",
      "AttributeError: 'tqdm' object has no attribute 'disable'\n",
      "100%|████████████████████████████████| 900000/900000 [00:42<00:00, 20934.23it/s]\n"
     ]
    }
   ],
   "source": [
    "rows, cols, data = [], [], []\n",
    "for i, pl in tqdm(enumerate(pi), total=50000*18):\n",
    "    for song in set(pl):\n",
    "        rows.append(i)\n",
    "        cols.append(song2idx[song])\n",
    "        data.append(1)"
   ]
  },
  {
   "cell_type": "code",
   "execution_count": 35,
   "id": "bef75f66-a296-4b0a-97d9-9d49197988db",
   "metadata": {},
   "outputs": [],
   "source": [
    "from scipy.sparse import csr_matrix\n",
    "\n",
    "R = csr_matrix((data, (rows, cols)), shape=(max(rows)+1, max(cols)+1))"
   ]
  },
  {
   "cell_type": "code",
   "execution_count": 37,
   "id": "0b943cfb-eb1e-430c-9702-88839897a380",
   "metadata": {},
   "outputs": [],
   "source": [
    "from scipy.sparse import save_npz\n",
    "\n",
    "save_npz(\"../models/sparse/r.npz\", R)"
   ]
  },
  {
   "cell_type": "code",
   "execution_count": 45,
   "id": "716effb2-db58-4005-9af5-b6f2eda1b91b",
   "metadata": {},
   "outputs": [],
   "source": [
    "import numpy as np\n",
    "k = np.ones((2150618, 10))"
   ]
  },
  {
   "cell_type": "code",
   "execution_count": 46,
   "id": "57ee5eb6-74dd-4440-8261-048849662b2c",
   "metadata": {},
   "outputs": [
    {
     "name": "stdout",
     "output_type": "stream",
     "text": [
      "1.82 s ± 60.2 ms per loop (mean ± std. dev. of 7 runs, 1 loop each)\n"
     ]
    }
   ],
   "source": [
    "%%timeit\n",
    "R @ k"
   ]
  },
  {
   "cell_type": "code",
   "execution_count": null,
   "id": "8056cc7c-d922-44c2-a6e8-9777965791b5",
   "metadata": {},
   "outputs": [],
   "source": []
  }
 ],
 "metadata": {
  "kernelspec": {
   "display_name": "Python 3 (ipykernel)",
   "language": "python",
   "name": "python3"
  },
  "language_info": {
   "codemirror_mode": {
    "name": "ipython",
    "version": 3
   },
   "file_extension": ".py",
   "mimetype": "text/x-python",
   "name": "python",
   "nbconvert_exporter": "python",
   "pygments_lexer": "ipython3",
   "version": "3.10.6"
  }
 },
 "nbformat": 4,
 "nbformat_minor": 5
}

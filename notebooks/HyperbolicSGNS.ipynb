{
 "cells": [
  {
   "cell_type": "code",
   "execution_count": 1,
   "id": "868c86a0-d794-46f3-b3c3-50f82698d9cc",
   "metadata": {},
   "outputs": [],
   "source": [
    "import sys\n",
    "\n",
    "sys.path.insert(0, \"../src\")\n",
    "\n",
    "from models.hyperbolic import ManifoldSkipGram\n",
    "\n",
    "import networkx\n",
    "import geoopt\n",
    "import torch\n",
    "import torch.nn as nn\n",
    "import numpy as np\n",
    "import random\n",
    "import logging"
   ]
  },
  {
   "cell_type": "code",
   "execution_count": 2,
   "id": "e8b42444-d64c-4476-8a77-a311c128bcae",
   "metadata": {},
   "outputs": [],
   "source": [
    "import random\n",
    "from itertools import accumulate\n",
    "\n",
    "def skip_gram(x, i, w):\n",
    "    return x[i], x[max(0, i-w):i] + x[i+1:i+w+1]\n",
    "\n",
    "class SkipGramWithNegativeSampling:\n",
    "    \n",
    "    def __init__(self, window, vocabulary, negative=5, negative_probs=None):\n",
    "        self.window = window\n",
    "        self.vocabulary = vocabulary\n",
    "        self.negative = negative\n",
    "        if negative_probs is not None:\n",
    "            self.negative_probs = list(accumulate(negative_probs))\n",
    "        else:\n",
    "            self.negative_probs = None\n",
    "        \n",
    "    def sample_negatives(self, query):\n",
    "        if self.negative == 0:\n",
    "            return []\n",
    "        items = set(query)\n",
    "        randoms = random.choices(self.vocabulary, k=len(items)*self.negative, cum_weights=self.negative_probs)\n",
    "        return zip(list(items)*self.negative, randoms)\n",
    "        \n",
    "    def __call__(self, x):\n",
    "        grams = [skip_gram(x, i, self.window) for i in range(len(x))]\n",
    "        batches = [[w,c] for w,context in grams for c in context]\n",
    "        negatives = list(self.sample_negatives(x))\n",
    "        labels = [1] * len(batches) + [0] * len(negatives)\n",
    "        return batches + negatives, labels\n",
    "    \n",
    "    \n",
    "class ToTensor:\n",
    "    \n",
    "    def __init__(self, *dtypes):\n",
    "        self.dtypes = dtypes\n",
    "        \n",
    "    def __call__(self, x):\n",
    "        assert isinstance(x, tuple)\n",
    "        assert len(x) == len(self.dtypes), f\"Number of inputs {len(x)} does not match number of specified data types {len(self.dtypes)}\"\n",
    "        return tuple(torch.tensor(xi, dtype=di) for xi, di in zip(x, self.dtypes))"
   ]
  },
  {
   "cell_type": "code",
   "execution_count": 3,
   "id": "66ffc02e-1bbf-46dc-9b38-6180a2b5ee0e",
   "metadata": {},
   "outputs": [],
   "source": [
    "import sys\n",
    "sys.path.insert(0, \"../src/\")\n",
    "from models.transformer.loader import PlaylistDataset\n",
    "from models.transformer.transform import *"
   ]
  },
  {
   "cell_type": "code",
   "execution_count": 4,
   "id": "f21b701c-a6ae-47d4-badf-95911a2e9ecd",
   "metadata": {},
   "outputs": [
    {
     "data": {
      "text/plain": [
       "20"
      ]
     },
     "execution_count": 4,
     "metadata": {},
     "output_type": "execute_result"
    }
   ],
   "source": [
    "import os\n",
    "\n",
    "# utils to create this file list\n",
    "\n",
    "def get_file_list(base):\n",
    "    return [os.path.join(base, f) for f in os.listdir(base) if \".json\" in f]\n",
    "\n",
    "files = get_file_list(\"../data/processed/\")\n",
    "len(files)"
   ]
  },
  {
   "cell_type": "code",
   "execution_count": 5,
   "id": "95d6fd1a-3416-45d6-a7b9-68fad51fc3da",
   "metadata": {},
   "outputs": [
    {
     "data": {
      "text/plain": [
       "'Compute and save song frequencies\\nfrom collections import Counter\\nfrom tqdm import tqdm\\nimport json\\n\\nsongs = Counter()\\nfor f in tqdm(files):\\n    with open(f) as f:\\n        data = json.load(f)[\"playlists\"]\\n        for pl in data:\\n            songs.update(pl)\\n            \\nwith open(\"../data/frequencies.json\", \"w\") as f:\\n    f.write(json.dumps(dict(songs)))\\nlen(songs)\\n'"
      ]
     },
     "execution_count": 5,
     "metadata": {},
     "output_type": "execute_result"
    }
   ],
   "source": [
    "\"\"\"Compute and save song frequencies\n",
    "from collections import Counter\n",
    "from tqdm import tqdm\n",
    "import json\n",
    "\n",
    "songs = Counter()\n",
    "for f in tqdm(files):\n",
    "    with open(f) as f:\n",
    "        data = json.load(f)[\"playlists\"]\n",
    "        for pl in data:\n",
    "            songs.update(pl)\n",
    "            \n",
    "with open(\"../data/frequencies.json\", \"w\") as f:\n",
    "    f.write(json.dumps(dict(songs)))\n",
    "len(songs)\n",
    "\"\"\""
   ]
  },
  {
   "cell_type": "code",
   "execution_count": 6,
   "id": "c2418534-bd7a-4408-8a5d-54b20e7a60ec",
   "metadata": {},
   "outputs": [
    {
     "data": {
      "text/plain": [
       "172308"
      ]
     },
     "execution_count": 6,
     "metadata": {},
     "output_type": "execute_result"
    }
   ],
   "source": [
    "import json\n",
    "\n",
    "MIN_FREQ = 10\n",
    "\n",
    "with open(\"../data/frequencies.json\") as f:\n",
    "    frequencies = json.load(f)\n",
    "\n",
    "frequencies = dict(filter(lambda item: item[1] >= MIN_FREQ, frequencies.items()))\n",
    "songs = list(set(frequencies.keys()))\n",
    "song2idx = {s: i for i,s in enumerate(songs)}\n",
    "idx2song = {i: s for s,i in song2idx.items()}\n",
    "len(frequencies)"
   ]
  },
  {
   "cell_type": "code",
   "execution_count": 13,
   "id": "8a497b8d-d87c-4323-9af6-90c43e3eac66",
   "metadata": {},
   "outputs": [],
   "source": [
    "def collate_fn(data):\n",
    "    pairs, labels = list(zip(*data))\n",
    "    return torch.cat(pairs, dim=0), torch.cat(labels, dim=0)\n",
    "\n",
    "# probs\n",
    "alpha = 0.75\n",
    "adjusted_song_weights = np.array([frequencies[s]**alpha for s in song2idx.keys()])\n",
    "\n",
    "\n",
    "tf = Compose(\n",
    "    RemoveUnknownTracks(songs),\n",
    "    TrackURI2Idx(song2idx),\n",
    "    SkipGramWithNegativeSampling(5, list(song2idx.values()), 10, negative_probs=adjusted_song_weights),\n",
    "    ToTensor(torch.long, torch.float)\n",
    ")\n",
    "\n",
    "dataset = PlaylistDataset(files, 50_000, transform=tf)\n",
    "loader = torch.utils.data.DataLoader(dataset, batch_size=16, collate_fn=collate_fn, num_workers=5)"
   ]
  },
  {
   "cell_type": "code",
   "execution_count": 14,
   "id": "f8c9352a-7680-4669-af72-b0dca1e4b4e6",
   "metadata": {},
   "outputs": [
    {
     "name": "stderr",
     "output_type": "stream",
     "text": [
      "\n",
      "  0%|                                                 | 0/62500 [00:00<?, ?it/s]\u001b[A\n",
      "  0%|                                      | 1/62500 [00:01<19:14:58,  1.11s/it]\u001b[A\n",
      "  0%|                                       | 5/62500 [00:01<3:20:40,  5.19it/s]\u001b[A\n",
      "  0%|                                        | 19/62500 [00:01<45:20, 22.97it/s]\u001b[A\n",
      "  0%|                                        | 34/62500 [00:01<24:25, 42.61it/s]\u001b[A\n",
      "  0%|                                        | 54/62500 [00:01<14:38, 71.09it/s]\u001b[A\n",
      "  0%|                                        | 71/62500 [00:01<11:30, 90.40it/s]\u001b[A\n",
      "  0%|                                       | 86/62500 [00:01<10:04, 103.18it/s]\u001b[A\n",
      "  0%|                                      | 106/62500 [00:01<08:41, 119.55it/s]\u001b[A\n",
      "  0%|                                      | 121/62500 [00:02<08:51, 117.28it/s]\u001b[A\n",
      "  0%|                                      | 136/62500 [00:02<08:42, 119.37it/s]\u001b[A\n",
      "  0%|                                      | 152/62500 [00:02<08:27, 122.74it/s]\u001b[A\n",
      "  0%|                                      | 167/62500 [00:02<08:45, 118.62it/s]\u001b[A\n",
      "  0%|                                      | 182/62500 [00:02<08:40, 119.75it/s]\u001b[A\n",
      "  0%|                                      | 202/62500 [00:02<07:45, 133.69it/s]\u001b[A\n",
      "  0%|▏                                     | 218/62500 [00:02<07:43, 134.48it/s]\u001b[A\n",
      "  0%|▏                                     | 235/62500 [00:02<07:22, 140.61it/s]\u001b[A\n",
      "  0%|▏                                     | 253/62500 [00:02<07:08, 145.31it/s]\u001b[A\n",
      "  0%|▏                                     | 270/62500 [00:03<07:17, 142.14it/s]\u001b[A\n",
      "  0%|▏                                     | 285/62500 [00:03<07:15, 142.83it/s]\u001b[A\n",
      "  0%|▏                                     | 300/62500 [00:03<07:37, 135.88it/s]\u001b[A\n",
      "  1%|▏                                     | 318/62500 [00:03<07:23, 140.25it/s]\u001b[A\n",
      "  1%|▏                                     | 337/62500 [00:03<06:57, 148.76it/s]\u001b[A\n",
      "  1%|▏                                      | 352/62500 [00:03<12:24, 83.45it/s]\u001b[A\n",
      "  1%|▏                                      | 364/62500 [00:04<19:26, 53.27it/s]\u001b[A\n",
      "  1%|▏                                      | 378/62500 [00:04<16:26, 63.00it/s]\u001b[A\n",
      "  1%|▏                                      | 394/62500 [00:04<13:17, 77.88it/s]\u001b[A\n",
      "  1%|▎                                      | 406/62500 [00:05<22:11, 46.63it/s]\u001b[A\n",
      "  1%|▎                                      | 421/62500 [00:05<17:59, 57.52it/s]\u001b[A\n",
      "  1%|▎                                      | 436/62500 [00:05<21:50, 47.36it/s]\u001b[A\n",
      "  1%|▎                                      | 456/62500 [00:05<16:10, 63.95it/s]\u001b[A\n",
      "  1%|▎                                      | 471/62500 [00:06<13:33, 76.26it/s]\u001b[A\n",
      "  1%|▎                                      | 487/62500 [00:06<11:29, 89.94it/s]\u001b[A\n",
      "  1%|▎                                     | 507/62500 [00:06<09:27, 109.31it/s]\u001b[A\n",
      "  1%|▎                                     | 522/62500 [00:06<08:58, 115.07it/s]\u001b[A\n",
      "  1%|▎                                     | 537/62500 [00:06<08:32, 121.01it/s]\u001b[A\n",
      "  1%|▎                                     | 556/62500 [00:06<07:49, 131.95it/s]\u001b[A\n",
      "  1%|▎                                     | 571/62500 [00:06<07:37, 135.37it/s]\u001b[A\n",
      "  1%|▎                                     | 587/62500 [00:06<07:31, 137.04it/s]\u001b[A\n",
      "  1%|▎                                     | 606/62500 [00:06<06:55, 149.07it/s]\u001b[A\n",
      "  1%|▍                                     | 625/62500 [00:07<06:56, 148.42it/s]\u001b[A\n",
      "  1%|▍                                     | 641/62500 [00:07<06:50, 150.56it/s]\u001b[A\n",
      "  1%|▍                                     | 660/62500 [00:07<06:44, 152.94it/s]\u001b[A\n",
      "  1%|▍                                     | 681/62500 [00:07<06:37, 155.44it/s]\u001b[A\n",
      "  1%|▍                                     | 697/62500 [00:07<06:41, 153.97it/s]\u001b[A\n",
      "  1%|▍                                     | 713/62500 [00:07<06:37, 155.53it/s]\u001b[A\n",
      "  1%|▍                                     | 729/62500 [00:07<07:04, 145.39it/s]\u001b[A\n",
      "  1%|▍                                     | 744/62500 [00:07<07:32, 136.52it/s]\u001b[A\n",
      "  1%|▍                                     | 758/62500 [00:07<07:58, 129.10it/s]\u001b[A\n",
      "  1%|▍                                     | 773/62500 [00:08<07:49, 131.35it/s]\u001b[A\n",
      "  1%|▍                                     | 789/62500 [00:08<07:30, 137.06it/s]\u001b[A\n",
      "  1%|▍                                     | 806/62500 [00:08<07:21, 139.82it/s]\u001b[A\n",
      "  1%|▌                                     | 826/62500 [00:08<07:00, 146.69it/s]\u001b[A\n",
      "  1%|▌                                     | 841/62500 [00:08<07:08, 143.98it/s]\u001b[A\n",
      "  1%|▌                                     | 856/62500 [00:08<07:42, 133.34it/s]\u001b[A\n",
      "  1%|▌                                     | 872/62500 [00:08<07:40, 133.78it/s]\u001b[A\n",
      "  1%|▌                                     | 887/62500 [00:08<07:42, 133.20it/s]\u001b[A\n",
      "  1%|▌                                     | 902/62500 [00:09<08:25, 121.94it/s]\u001b[A\n",
      "  1%|▌                                     | 918/62500 [00:09<08:07, 126.43it/s]\u001b[A\n",
      "  1%|▌                                     | 934/62500 [00:09<08:08, 126.00it/s]\u001b[A\n",
      "  2%|▌                                     | 948/62500 [00:09<08:03, 127.26it/s]\u001b[A\n",
      "  2%|▌                                     | 964/62500 [00:09<07:45, 132.17it/s]\u001b[A\n",
      "  2%|▌                                     | 979/62500 [00:09<07:45, 132.26it/s]\u001b[A\n",
      "  2%|▌                                     | 994/62500 [00:09<07:44, 132.37it/s]\u001b[A\n",
      "  2%|▌                                    | 1009/62500 [00:09<07:55, 129.20it/s]\u001b[A\n",
      "  2%|▌                                    | 1022/62500 [00:09<08:01, 127.76it/s]\u001b[A\n",
      "  2%|▌                                    | 1036/62500 [00:10<08:23, 122.10it/s]\u001b[A\n",
      "  2%|▌                                    | 1051/62500 [00:10<08:00, 127.87it/s]\u001b[A\n",
      "  2%|▋                                    | 1071/62500 [00:10<07:19, 139.78it/s]\u001b[A\n",
      "  2%|▋                                    | 1087/62500 [00:10<07:20, 139.41it/s]\u001b[A\n",
      "  2%|▋                                    | 1107/62500 [00:10<07:06, 143.84it/s]\u001b[A\n",
      "  2%|▋                                    | 1141/62500 [00:10<09:40, 105.63it/s]\u001b[A\n",
      "\n",
      "KeyboardInterrupt\n",
      "\n"
     ]
    }
   ],
   "source": [
    "from tqdm import tqdm\n",
    "\n",
    "for _ in tqdm(loader):\n",
    "    pass"
   ]
  },
  {
   "cell_type": "code",
   "execution_count": 8,
   "id": "dc76c2e5-92db-4bf9-9dd8-993920a645b3",
   "metadata": {},
   "outputs": [],
   "source": [
    "NUM_EMBEDDING = len(songs)\n",
    "EMBEDDING_DIM = 16\n",
    "\n",
    "import geoopt\n",
    "manifold = geoopt.manifolds.Lorentz()\n",
    "model = ManifoldSkipGram(manifold, NUM_EMBEDDING, EMBEDDING_DIM, \n",
    "                         similarity=\"distance\", opt_kwargs={\"algo\": \"adam\", \"lr\": 0.001})"
   ]
  },
  {
   "cell_type": "code",
   "execution_count": 9,
   "id": "312c082f-a8d6-42b4-9bd9-60c0bd31f05e",
   "metadata": {},
   "outputs": [
    {
     "name": "stderr",
     "output_type": "stream",
     "text": [
      "GPU available: False, used: False\n",
      "TPU available: False, using: 0 TPU cores\n",
      "IPU available: False, using: 0 IPUs\n",
      "HPU available: False, using: 0 HPUs\n"
     ]
    }
   ],
   "source": [
    "import lightning as pl\n",
    "\n",
    "trainer = pl.Trainer(max_epochs=50)"
   ]
  },
  {
   "cell_type": "code",
   "execution_count": 10,
   "id": "da433127-01ea-41ed-becb-7cce9f05829a",
   "metadata": {
    "tags": []
   },
   "outputs": [
    {
     "name": "stderr",
     "output_type": "stream",
     "text": [
      "\n",
      "  | Name    | Type              | Params\n",
      "----------------------------------------------\n",
      "0 | encoder | ManifoldEmbedding | 2.8 M \n",
      "1 | sim     | ManifoldDistance  | 1     \n",
      "2 | loss_fn | SGNSLoss          | 0     \n",
      "----------------------------------------------\n",
      "2.8 M     Trainable params\n",
      "1         Non-trainable params\n",
      "2.8 M     Total params\n",
      "11.028    Total estimated model params size (MB)\n",
      "2023-05-26 20:10:51.422934: W tensorflow/compiler/xla/stream_executor/platform/default/dso_loader.cc:64] Could not load dynamic library 'libnvinfer.so.7'; dlerror: libnvinfer.so.7: cannot open shared object file: No such file or directory\n",
      "2023-05-26 20:10:51.423180: W tensorflow/compiler/xla/stream_executor/platform/default/dso_loader.cc:64] Could not load dynamic library 'libnvinfer_plugin.so.7'; dlerror: libnvinfer_plugin.so.7: cannot open shared object file: No such file or directory\n",
      "2023-05-26 20:10:51.423185: W tensorflow/compiler/tf2tensorrt/utils/py_utils.cc:38] TF-TRT Warning: Cannot dlopen some TensorRT libraries. If you would like to use Nvidia GPU with TensorRT, please make sure the missing libraries mentioned above are installed properly.\n"
     ]
    },
    {
     "data": {
      "application/vnd.jupyter.widget-view+json": {
       "model_id": "62ba20f00c4a4c58aca6f07b55c7129e",
       "version_major": 2,
       "version_minor": 0
      },
      "text/plain": [
       "Training: 0it [00:00, ?it/s]"
      ]
     },
     "metadata": {},
     "output_type": "display_data"
    },
    {
     "name": "stderr",
     "output_type": "stream",
     "text": [
      "/home/mbh/.venvs/base/lib/python3.10/site-packages/lightning/pytorch/trainer/call.py:54: UserWarning: Detected KeyboardInterrupt, attempting graceful shutdown...\n",
      "  rank_zero_warn(\"Detected KeyboardInterrupt, attempting graceful shutdown...\")\n"
     ]
    }
   ],
   "source": [
    "trainer.fit(model, loader)"
   ]
  },
  {
   "cell_type": "code",
   "execution_count": null,
   "id": "feacad0a-07eb-48a1-94df-df9b970fe1d4",
   "metadata": {},
   "outputs": [],
   "source": [
    "c = 0\n",
    "for f in frequencies.values():\n",
    "    if f < MIN_FREQ:\n",
    "        c += f\n",
    "\n",
    "c, c / sum(frequencies.values())"
   ]
  }
 ],
 "metadata": {
  "kernelspec": {
   "display_name": "Python 3 (ipykernel)",
   "language": "python",
   "name": "python3"
  },
  "language_info": {
   "codemirror_mode": {
    "name": "ipython",
    "version": 3
   },
   "file_extension": ".py",
   "mimetype": "text/x-python",
   "name": "python",
   "nbconvert_exporter": "python",
   "pygments_lexer": "ipython3",
   "version": "3.10.6"
  }
 },
 "nbformat": 4,
 "nbformat_minor": 5
}

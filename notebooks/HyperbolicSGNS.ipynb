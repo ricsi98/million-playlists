{
 "cells": [
  {
   "cell_type": "code",
   "execution_count": 1,
   "id": "868c86a0-d794-46f3-b3c3-50f82698d9cc",
   "metadata": {},
   "outputs": [],
   "source": [
    "import networkx\n",
    "import geoopt\n",
    "import torch\n",
    "import torch.nn as nn\n",
    "import numpy as np\n",
    "import random\n",
    "import logging"
   ]
  },
  {
   "cell_type": "code",
   "execution_count": 2,
   "id": "d40cb0fa-5876-4466-8fc4-bb0e6a45892e",
   "metadata": {},
   "outputs": [],
   "source": [
    "class ManifoldEmbedding(nn.Module):\n",
    "    \n",
    "    def __init__(self, manifold, num_embeddings, embedding_dim, dtype=torch.double, requires_grad=True, weights=None):\n",
    "        super().__init__()\n",
    "        if dtype != torch.double:\n",
    "            logging.warning(\"Double precision is recommended for embeddings on manifold\")\n",
    "        self.embedding_dim = embedding_dim\n",
    "        self.num_embeddings = num_embeddings\n",
    "        self._manifold = manifold\n",
    "        if weights is None:\n",
    "            data = torch.zeros((num_embeddings, embedding_dim), dtype=dtype)\n",
    "            self.w = geoopt.ManifoldParameter(data, requires_grad=requires_grad, manifold=self._manifold)\n",
    "            self.reset_parameters()\n",
    "        else:\n",
    "            raise NotImplementedError()\n",
    "            \n",
    "    def forward(self, x):\n",
    "        s0 = x.shape\n",
    "        ws = self.w[x.view(-1)]\n",
    "        return ws.view(*s0, self.embedding_dim)\n",
    "    \n",
    "    def reset_parameters(self) -> None:\n",
    "        nn.init.normal_(self.w.data, std=0.25)\n",
    "        self.w.data[:] = self._manifold.retr(torch.zeros(self.embedding_dim), self.w.data)\n",
    "        \n",
    "        \n",
    "class LorentzEmbedding(ManifoldEmbedding):\n",
    "    \n",
    "    def __init__(self, num_embeddings, embedding_dim, k=1.0, **kwargs):\n",
    "        manifold = geoopt.manifolds.Lorentz(k, learnable=False)\n",
    "        super().__init__(manifold, num_embeddings, embedding_dim, **kwargs)\n",
    "        \n",
    "        \n",
    "class LorentzSkipGram(nn.Module):\n",
    "    \n",
    "    def __init__(self, k=1.0):\n",
    "        super().__init__()\n",
    "        self._manifold = geoopt.manifolds.Lorentz(k, learnable=False)\n",
    "        \n",
    "    def forward(self, a, b):\n",
    "        x0 = torch.zeros(a.shape[-1]).to(a.device)\n",
    "        return self._manifold.inner(x0, a, b)\n",
    "    \n",
    "    \n",
    "class SGNSLoss(nn.Module):\n",
    "    \n",
    "    def __init__(self, reduction=\"mean\"):\n",
    "        super().__init__()\n",
    "        self.reduction = reduction\n",
    "        \n",
    "    def forward(self, y_, y):\n",
    "        y.masked_fill_(y == 0, -1)\n",
    "        loss = -torch.log(torch.sigmoid(y * y_))\n",
    "        if self.reduction is None:\n",
    "            return loss\n",
    "        elif self.reduction == \"mean\":\n",
    "            return loss.mean()\n",
    "        elif self.rediction == \"sum\":\n",
    "            return loss.sum()\n",
    "        raise NotImplementedError()"
   ]
  },
  {
   "cell_type": "code",
   "execution_count": 3,
   "id": "980f3464-66c3-4375-b51b-5ebaafaf367e",
   "metadata": {},
   "outputs": [
    {
     "name": "stderr",
     "output_type": "stream",
     "text": [
      "/home/mbh/.venvs/base/lib/python3.10/site-packages/tqdm/auto.py:22: TqdmWarning: IProgress not found. Please update jupyter and ipywidgets. See https://ipywidgets.readthedocs.io/en/stable/user_install.html\n",
      "  from .autonotebook import tqdm as notebook_tqdm\n"
     ]
    }
   ],
   "source": [
    "import lightning as pl\n",
    "\n",
    "\n",
    "class Model(pl.LightningModule):\n",
    "    \n",
    "    def __init__(self, num_embeddings, embedding_dim, theta, k=1.0):\n",
    "        super().__init__()\n",
    "        self.embd = LorentzEmbedding(num_embeddings, embedding_dim, k)\n",
    "        self.sg = LorentzSkipGram(k)\n",
    "        self.loss_fn = SGNSLoss()\n",
    "        self.theta = theta\n",
    "        \n",
    "    def training_step(self, batch, batch_idx):\n",
    "        x, y = batch\n",
    "        e1, e2 = x[:, 0], x[:, 1]\n",
    "        v1, v2 = self.embd(e1), self.embd(e2)\n",
    "        z = self.sg(v1, v2) + self.theta\n",
    "        loss = self.loss_fn(z, y)\n",
    "        self.log(\"training_loss\", loss.item(), prog_bar=True)\n",
    "        return loss\n",
    "        \n",
    "    def configure_optimizers(self):\n",
    "        optimizer = geoopt.optim.RiemannianAdam(self.parameters(), 1e-3)\n",
    "        return optimizer\n"
   ]
  },
  {
   "cell_type": "code",
   "execution_count": 4,
   "id": "e8b42444-d64c-4476-8a77-a311c128bcae",
   "metadata": {},
   "outputs": [],
   "source": [
    "import random\n",
    "\n",
    "def skip_gram(x, i, w):\n",
    "    return x[i], x[max(0, i-w):i] + x[i+1:i+w+1]\n",
    "\n",
    "class SkipGramWithNegativeSampling:\n",
    "    \n",
    "    def __init__(self, window, vocabulary, negative=5, negative_probs=None):\n",
    "        self.window = window\n",
    "        self.vocabulary = vocabulary\n",
    "        self.negative = negative\n",
    "        self.negative_probs = negative_probs\n",
    "        \n",
    "    def sample_negatives(self, query):\n",
    "        if self.negative == 0:\n",
    "            return []\n",
    "        assert self.negative_probs is None, \"Weighted sampling not implemented yet!\"\n",
    "        items = set(query)\n",
    "        randoms = random.choices(self.vocabulary, k=len(items)*self.negative)\n",
    "        return zip(list(items)*self.negative, randoms)\n",
    "        \n",
    "    def __call__(self, x):\n",
    "        grams = [skip_gram(x, i, self.window) for i in range(len(x))]\n",
    "        batches = [[w,c] for w,context in grams for c in context]\n",
    "        negatives = list(self.sample_negatives(x))\n",
    "        labels = [1] * len(batches) + [0] * len(negatives)\n",
    "        return batches + negatives, labels\n",
    "    \n",
    "    \n",
    "class ToTensor:\n",
    "    \n",
    "    def __init__(self, *dtypes):\n",
    "        self.dtypes = dtypes\n",
    "        \n",
    "    def __call__(self, x):\n",
    "        assert isinstance(x, tuple)\n",
    "        assert len(x) == len(self.dtypes), f\"Number of inputs {len(x)} does not match number of specified data types {len(self.dtypes)}\"\n",
    "        return tuple(torch.tensor(xi, dtype=di) for xi, di in zip(x, self.dtypes))"
   ]
  },
  {
   "cell_type": "code",
   "execution_count": 5,
   "id": "66ffc02e-1bbf-46dc-9b38-6180a2b5ee0e",
   "metadata": {},
   "outputs": [],
   "source": [
    "import sys\n",
    "sys.path.insert(0, \"../src/\")\n",
    "from models.transformer.loader import PlaylistDataset\n",
    "from models.transformer.transform import *"
   ]
  },
  {
   "cell_type": "code",
   "execution_count": 6,
   "id": "f21b701c-a6ae-47d4-badf-95911a2e9ecd",
   "metadata": {},
   "outputs": [
    {
     "data": {
      "text/plain": [
       "20"
      ]
     },
     "execution_count": 6,
     "metadata": {},
     "output_type": "execute_result"
    }
   ],
   "source": [
    "import os\n",
    "\n",
    "# utils to create this file list\n",
    "\n",
    "def get_file_list(base):\n",
    "    return [os.path.join(base, f) for f in os.listdir(base) if \".json\" in f]\n",
    "\n",
    "files = get_file_list(\"../data/processed/\")\n",
    "len(files)"
   ]
  },
  {
   "cell_type": "code",
   "execution_count": 7,
   "id": "95d6fd1a-3416-45d6-a7b9-68fad51fc3da",
   "metadata": {},
   "outputs": [
    {
     "data": {
      "text/plain": [
       "'Compute and save song frequencies\\nfrom collections import Counter\\nfrom tqdm import tqdm\\nimport json\\n\\nsongs = Counter()\\nfor f in tqdm(files):\\n    with open(f) as f:\\n        data = json.load(f)[\"playlists\"]\\n        for pl in data:\\n            songs.update(pl)\\n            \\nwith open(\"../data/frequencies.json\", \"w\") as f:\\n    f.write(json.dumps(dict(songs)))\\nlen(songs)\\n'"
      ]
     },
     "execution_count": 7,
     "metadata": {},
     "output_type": "execute_result"
    }
   ],
   "source": [
    "\"\"\"Compute and save song frequencies\n",
    "from collections import Counter\n",
    "from tqdm import tqdm\n",
    "import json\n",
    "\n",
    "songs = Counter()\n",
    "for f in tqdm(files):\n",
    "    with open(f) as f:\n",
    "        data = json.load(f)[\"playlists\"]\n",
    "        for pl in data:\n",
    "            songs.update(pl)\n",
    "            \n",
    "with open(\"../data/frequencies.json\", \"w\") as f:\n",
    "    f.write(json.dumps(dict(songs)))\n",
    "len(songs)\n",
    "\"\"\""
   ]
  },
  {
   "cell_type": "code",
   "execution_count": 8,
   "id": "c2418534-bd7a-4408-8a5d-54b20e7a60ec",
   "metadata": {},
   "outputs": [
    {
     "data": {
      "text/plain": [
       "599341"
      ]
     },
     "execution_count": 8,
     "metadata": {},
     "output_type": "execute_result"
    }
   ],
   "source": [
    "import json\n",
    "\n",
    "MIN_FREQ = 5\n",
    "\n",
    "with open(\"../data/frequencies.json\") as f:\n",
    "    frequencies = json.load(f)\n",
    "\n",
    "frequencies = dict(filter(lambda item: item[1] >= MIN_FREQ, frequencies.items()))\n",
    "songs = list(set(frequencies.keys()))\n",
    "song2idx = {s: i for i,s in enumerate(songs)}\n",
    "idx2song = {i: s for s,i in song2idx.items()}\n",
    "len(frequencies)"
   ]
  },
  {
   "cell_type": "code",
   "execution_count": 9,
   "id": "8a497b8d-d87c-4323-9af6-90c43e3eac66",
   "metadata": {},
   "outputs": [],
   "source": [
    "def collate_fn(data):\n",
    "    pairs, labels = list(zip(*data))\n",
    "    return torch.cat(pairs, dim=0), torch.cat(labels, dim=0)\n",
    "\n",
    "tf = Compose(\n",
    "    RemoveUnknownTracks(songs),\n",
    "    TrackURI2Idx(song2idx),\n",
    "    SkipGramWithNegativeSampling(5, list(song2idx.values()), 10),\n",
    "    ToTensor(torch.long, torch.float)\n",
    ")\n",
    "\n",
    "dataset = PlaylistDataset(files, 50_000, transform=tf)\n",
    "loader = torch.utils.data.DataLoader(dataset, batch_size=1200, collate_fn=collate_fn, num_workers=4)"
   ]
  },
  {
   "cell_type": "code",
   "execution_count": 10,
   "id": "dc76c2e5-92db-4bf9-9dd8-993920a645b3",
   "metadata": {},
   "outputs": [],
   "source": [
    "NUM_EMBEDDING = len(songs)\n",
    "EMBEDDING_DIM = 32\n",
    "THETA = 3\n",
    "\n",
    "model = Model(NUM_EMBEDDING, EMBEDDING_DIM, THETA)"
   ]
  },
  {
   "cell_type": "code",
   "execution_count": 11,
   "id": "312c082f-a8d6-42b4-9bd9-60c0bd31f05e",
   "metadata": {},
   "outputs": [
    {
     "name": "stderr",
     "output_type": "stream",
     "text": [
      "GPU available: False, used: False\n",
      "TPU available: False, using: 0 TPU cores\n",
      "IPU available: False, using: 0 IPUs\n",
      "HPU available: False, using: 0 HPUs\n"
     ]
    }
   ],
   "source": [
    "trainer = pl.Trainer()"
   ]
  },
  {
   "cell_type": "code",
   "execution_count": null,
   "id": "da433127-01ea-41ed-becb-7cce9f05829a",
   "metadata": {
    "tags": []
   },
   "outputs": [
    {
     "name": "stderr",
     "output_type": "stream",
     "text": [
      "/home/mbh/.venvs/base/lib/python3.10/site-packages/lightning/pytorch/loops/utilities.py:70: PossibleUserWarning: `max_epochs` was not set. Setting it to 1000 epochs. To train without an epoch limit, set `max_epochs=-1`.\n",
      "  rank_zero_warn(\n",
      "\n",
      "  | Name    | Type             | Params\n",
      "---------------------------------------------\n",
      "0 | embd    | LorentzEmbedding | 19.2 M\n",
      "1 | sg      | LorentzSkipGram  | 1     \n",
      "2 | loss_fn | SGNSLoss         | 0     \n",
      "---------------------------------------------\n",
      "19.2 M    Trainable params\n",
      "2         Non-trainable params\n",
      "19.2 M    Total params\n",
      "76.716    Total estimated model params size (MB)\n",
      "2023-05-09 10:56:50.419382: W tensorflow/compiler/xla/stream_executor/platform/default/dso_loader.cc:64] Could not load dynamic library 'libnvinfer.so.7'; dlerror: libnvinfer.so.7: cannot open shared object file: No such file or directory\n",
      "2023-05-09 10:56:50.419422: W tensorflow/compiler/xla/stream_executor/platform/default/dso_loader.cc:64] Could not load dynamic library 'libnvinfer_plugin.so.7'; dlerror: libnvinfer_plugin.so.7: cannot open shared object file: No such file or directory\n",
      "2023-05-09 10:56:50.419426: W tensorflow/compiler/tf2tensorrt/utils/py_utils.cc:38] TF-TRT Warning: Cannot dlopen some TensorRT libraries. If you would like to use Nvidia GPU with TensorRT, please make sure the missing libraries mentioned above are installed properly.\n"
     ]
    },
    {
     "name": "stdout",
     "output_type": "stream",
     "text": [
      "Epoch 0:   2%|  | 18/834 [00:48<36:45,  2.70s/it, v_num=36, training_loss=1.010]"
     ]
    }
   ],
   "source": [
    "trainer.fit(model, loader)"
   ]
  },
  {
   "cell_type": "code",
   "execution_count": null,
   "id": "feacad0a-07eb-48a1-94df-df9b970fe1d4",
   "metadata": {},
   "outputs": [],
   "source": []
  }
 ],
 "metadata": {
  "kernelspec": {
   "display_name": "Python 3 (ipykernel)",
   "language": "python",
   "name": "python3"
  },
  "language_info": {
   "codemirror_mode": {
    "name": "ipython",
    "version": 3
   },
   "file_extension": ".py",
   "mimetype": "text/x-python",
   "name": "python",
   "nbconvert_exporter": "python",
   "pygments_lexer": "ipython3",
   "version": "3.10.6"
  }
 },
 "nbformat": 4,
 "nbformat_minor": 5
}

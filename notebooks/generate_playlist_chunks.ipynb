{
 "cells": [
  {
   "cell_type": "code",
   "execution_count": 1,
   "id": "2a9438dd-8ce8-46e0-9ff4-1a0ebe48d25d",
   "metadata": {},
   "outputs": [
    {
     "name": "stderr",
     "output_type": "stream",
     "text": [
      "  1%|▌                                        | 14/1000 [00:02<02:50,  5.78it/s]\n"
     ]
    },
    {
     "ename": "KeyboardInterrupt",
     "evalue": "",
     "output_type": "error",
     "traceback": [
      "\u001b[0;31m---------------------------------------------------------------------------\u001b[0m",
      "\u001b[0;31mKeyboardInterrupt\u001b[0m                         Traceback (most recent call last)",
      "Cell \u001b[0;32mIn[1], line 27\u001b[0m\n\u001b[1;32m     25\u001b[0m \u001b[38;5;28;01mwith\u001b[39;00m \u001b[38;5;28mopen\u001b[39m(fullpath, \u001b[38;5;124m\"\u001b[39m\u001b[38;5;124mr\u001b[39m\u001b[38;5;124m\"\u001b[39m) \u001b[38;5;28;01mas\u001b[39;00m f:\n\u001b[1;32m     26\u001b[0m     data \u001b[38;5;241m=\u001b[39m json\u001b[38;5;241m.\u001b[39mload(f)\n\u001b[0;32m---> 27\u001b[0m batch \u001b[38;5;241m+\u001b[39m\u001b[38;5;241m=\u001b[39m \u001b[38;5;28;43mlist\u001b[39;49m\u001b[43m(\u001b[49m\u001b[43mget_playlists\u001b[49m\u001b[43m(\u001b[49m\u001b[43mdata\u001b[49m\u001b[43m)\u001b[49m\u001b[43m)\u001b[49m\n\u001b[1;32m     29\u001b[0m \u001b[38;5;28;01mif\u001b[39;00m \u001b[38;5;28mlen\u001b[39m(batch) \u001b[38;5;241m>\u001b[39m\u001b[38;5;241m=\u001b[39m BATCH_SIZE:\n\u001b[1;32m     30\u001b[0m     dump(batch, \u001b[38;5;124mf\u001b[39m\u001b[38;5;124m\"\u001b[39m\u001b[38;5;124m../playlists_data/chunk_\u001b[39m\u001b[38;5;132;01m{\u001b[39;00mi\u001b[38;5;132;01m}\u001b[39;00m\u001b[38;5;124m.json\u001b[39m\u001b[38;5;124m\"\u001b[39m)\n",
      "Cell \u001b[0;32mIn[1], line 9\u001b[0m, in \u001b[0;36mget_playlists\u001b[0;34m(data)\u001b[0m\n\u001b[1;32m      7\u001b[0m \u001b[38;5;28;01mdef\u001b[39;00m \u001b[38;5;21mget_playlists\u001b[39m(data):\n\u001b[1;32m      8\u001b[0m     \u001b[38;5;28;01mfor\u001b[39;00m plist \u001b[38;5;129;01min\u001b[39;00m data[\u001b[38;5;124m\"\u001b[39m\u001b[38;5;124mplaylists\u001b[39m\u001b[38;5;124m\"\u001b[39m]:\n\u001b[0;32m----> 9\u001b[0m         sequence \u001b[38;5;241m=\u001b[39m [song[\u001b[38;5;124m\"\u001b[39m\u001b[38;5;124mtrack_uri\u001b[39m\u001b[38;5;124m\"\u001b[39m] \u001b[38;5;28;01mfor\u001b[39;00m song \u001b[38;5;129;01min\u001b[39;00m plist[\u001b[38;5;124m\"\u001b[39m\u001b[38;5;124mtracks\u001b[39m\u001b[38;5;124m\"\u001b[39m]]\n\u001b[1;32m     10\u001b[0m         \u001b[38;5;28;01myield\u001b[39;00m sequence\n",
      "Cell \u001b[0;32mIn[1], line 9\u001b[0m, in \u001b[0;36m<listcomp>\u001b[0;34m(.0)\u001b[0m\n\u001b[1;32m      7\u001b[0m \u001b[38;5;28;01mdef\u001b[39;00m \u001b[38;5;21mget_playlists\u001b[39m(data):\n\u001b[1;32m      8\u001b[0m     \u001b[38;5;28;01mfor\u001b[39;00m plist \u001b[38;5;129;01min\u001b[39;00m data[\u001b[38;5;124m\"\u001b[39m\u001b[38;5;124mplaylists\u001b[39m\u001b[38;5;124m\"\u001b[39m]:\n\u001b[0;32m----> 9\u001b[0m         sequence \u001b[38;5;241m=\u001b[39m [song[\u001b[38;5;124m\"\u001b[39m\u001b[38;5;124mtrack_uri\u001b[39m\u001b[38;5;124m\"\u001b[39m] \u001b[38;5;28;01mfor\u001b[39;00m song \u001b[38;5;129;01min\u001b[39;00m plist[\u001b[38;5;124m\"\u001b[39m\u001b[38;5;124mtracks\u001b[39m\u001b[38;5;124m\"\u001b[39m]]\n\u001b[1;32m     10\u001b[0m         \u001b[38;5;28;01myield\u001b[39;00m sequence\n",
      "\u001b[0;31mKeyboardInterrupt\u001b[0m: "
     ]
    }
   ],
   "source": [
    "import os\n",
    "from tqdm import tqdm\n",
    "import json\n",
    "\n",
    "BATCH_SIZE = 50000\n",
    "\n",
    "def get_playlists(data):\n",
    "    for plist in data[\"playlists\"]:\n",
    "        sequence = [song[\"track_uri\"] for song in plist[\"tracks\"]]\n",
    "        yield sequence\n",
    "\n",
    "def dump(batch, path):\n",
    "    print(f\"Writing {path}\")\n",
    "    with open(path, \"w\") as f:\n",
    "        json.dump({\"playlists\": batch}, f)\n",
    "        \n",
    "batch = []\n",
    "i = 0\n",
    "for fname in tqdm(list(sorted(os.listdir(\"../data\")))):\n",
    "    if not (fname.startswith(\"mpd.slice.\") and fname.endswith(\".json\")):\n",
    "        continue\n",
    "        \n",
    "    fullpath = os.sep.join((\"../data\", fname))\n",
    "    with open(fullpath, \"r\") as f:\n",
    "        data = json.load(f)\n",
    "    batch += list(get_playlists(data))\n",
    "    \n",
    "    if len(batch) >= BATCH_SIZE:\n",
    "        dump(batch, f\"../playlists_data/chunk_{i}.json\")\n",
    "        batch = []\n",
    "        i += 1\n",
    "        \n",
    "if len(batch) > 0:\n",
    "    dump(batch, f\"../playlists_data/chunk_{i}.json\")"
   ]
  },
  {
   "cell_type": "code",
   "execution_count": null,
   "id": "053863c7-1658-4a5c-8e95-e5e7429bc54b",
   "metadata": {},
   "outputs": [],
   "source": []
  }
 ],
 "metadata": {
  "kernelspec": {
   "display_name": "Python 3 (ipykernel)",
   "language": "python",
   "name": "python3"
  },
  "language_info": {
   "codemirror_mode": {
    "name": "ipython",
    "version": 3
   },
   "file_extension": ".py",
   "mimetype": "text/x-python",
   "name": "python",
   "nbconvert_exporter": "python",
   "pygments_lexer": "ipython3",
   "version": "3.10.6"
  }
 },
 "nbformat": 4,
 "nbformat_minor": 5
}

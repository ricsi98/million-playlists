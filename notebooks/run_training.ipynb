{
 "cells": [
  {
   "cell_type": "code",
   "execution_count": 1,
   "id": "3117312c-9a41-499e-8325-99c6ddb6dafb",
   "metadata": {
    "collapsed": true,
    "jupyter": {
     "outputs_hidden": true
    },
    "tags": []
   },
   "outputs": [
    {
     "name": "stdout",
     "output_type": "stream",
     "text": [
      "Requirement already satisfied: lightning in /home/studio-lab-user/.conda/envs/default/lib/python3.9/site-packages (2.0.2)\n",
      "Requirement already satisfied: gensim in /home/studio-lab-user/.conda/envs/default/lib/python3.9/site-packages (4.3.1)\n",
      "Requirement already satisfied: croniter<1.4.0,>=1.3.0 in /home/studio-lab-user/.conda/envs/default/lib/python3.9/site-packages (from lightning) (1.3.14)\n",
      "Requirement already satisfied: torchmetrics<2.0,>=0.7.0 in /home/studio-lab-user/.conda/envs/default/lib/python3.9/site-packages (from lightning) (0.11.4)\n",
      "Requirement already satisfied: lightning-cloud>=0.5.34 in /home/studio-lab-user/.conda/envs/default/lib/python3.9/site-packages (from lightning) (0.5.34)\n",
      "Requirement already satisfied: packaging<25.0,>=17.1 in /home/studio-lab-user/.conda/envs/default/lib/python3.9/site-packages (from lightning) (21.3)\n",
      "Requirement already satisfied: websockets<12.0 in /home/studio-lab-user/.conda/envs/default/lib/python3.9/site-packages (from lightning) (11.0.2)\n",
      "Requirement already satisfied: click<10.0 in /home/studio-lab-user/.conda/envs/default/lib/python3.9/site-packages (from lightning) (8.1.3)\n",
      "Requirement already satisfied: Jinja2<5.0 in /home/studio-lab-user/.conda/envs/default/lib/python3.9/site-packages (from lightning) (3.1.2)\n",
      "Requirement already satisfied: starlette in /home/studio-lab-user/.conda/envs/default/lib/python3.9/site-packages (from lightning) (0.22.0)\n",
      "Requirement already satisfied: pydantic<4.0,>=1.7.4 in /home/studio-lab-user/.conda/envs/default/lib/python3.9/site-packages (from lightning) (1.10.7)\n",
      "Requirement already satisfied: uvicorn<2.0 in /home/studio-lab-user/.conda/envs/default/lib/python3.9/site-packages (from lightning) (0.22.0)\n",
      "Requirement already satisfied: beautifulsoup4<6.0,>=4.8.0 in /home/studio-lab-user/.conda/envs/default/lib/python3.9/site-packages (from lightning) (4.11.1)\n",
      "Requirement already satisfied: traitlets<7.0,>=5.3.0 in /home/studio-lab-user/.conda/envs/default/lib/python3.9/site-packages (from lightning) (5.5.0)\n",
      "Requirement already satisfied: PyYAML<8.0,>=5.4 in /home/studio-lab-user/.conda/envs/default/lib/python3.9/site-packages (from lightning) (5.4.1)\n",
      "Requirement already satisfied: rich<15.0,>=12.3.0 in /home/studio-lab-user/.conda/envs/default/lib/python3.9/site-packages (from lightning) (13.3.5)\n",
      "Requirement already satisfied: deepdiff<8.0,>=5.7.0 in /home/studio-lab-user/.conda/envs/default/lib/python3.9/site-packages (from lightning) (6.3.0)\n",
      "Requirement already satisfied: fastapi<0.89.0,>=0.69.0 in /home/studio-lab-user/.conda/envs/default/lib/python3.9/site-packages (from lightning) (0.88.0)\n",
      "Requirement already satisfied: numpy<3.0,>=1.17.2 in /home/studio-lab-user/.conda/envs/default/lib/python3.9/site-packages (from lightning) (1.24.2)\n",
      "Requirement already satisfied: typing-extensions<6.0,>=4.0.0 in /home/studio-lab-user/.conda/envs/default/lib/python3.9/site-packages (from lightning) (4.4.0)\n",
      "Requirement already satisfied: requests<4.0 in /home/studio-lab-user/.conda/envs/default/lib/python3.9/site-packages (from lightning) (2.29.0)\n",
      "Requirement already satisfied: websocket-client<3.0 in /home/studio-lab-user/.conda/envs/default/lib/python3.9/site-packages (from lightning) (1.4.2)\n",
      "Requirement already satisfied: lightning-utilities<2.0,>=0.7.0 in /home/studio-lab-user/.conda/envs/default/lib/python3.9/site-packages (from lightning) (0.8.0)\n",
      "Requirement already satisfied: tqdm<6.0,>=4.57.0 in /home/studio-lab-user/.conda/envs/default/lib/python3.9/site-packages (from lightning) (4.65.0)\n",
      "Requirement already satisfied: urllib3<3.0 in /home/studio-lab-user/.conda/envs/default/lib/python3.9/site-packages (from lightning) (1.26.15)\n",
      "Requirement already satisfied: starsessions<2.0,>=1.2.1 in /home/studio-lab-user/.conda/envs/default/lib/python3.9/site-packages (from lightning) (1.3.0)\n",
      "Requirement already satisfied: dateutils<2.0 in /home/studio-lab-user/.conda/envs/default/lib/python3.9/site-packages (from lightning) (0.6.12)\n",
      "Requirement already satisfied: psutil<7.0 in /home/studio-lab-user/.conda/envs/default/lib/python3.9/site-packages (from lightning) (5.9.5)\n",
      "Requirement already satisfied: fsspec<2024.0,>=2022.5.0 in /home/studio-lab-user/.conda/envs/default/lib/python3.9/site-packages (from lightning) (2023.4.0)\n",
      "Requirement already satisfied: arrow<3.0,>=1.2.0 in /home/studio-lab-user/.conda/envs/default/lib/python3.9/site-packages (from lightning) (1.2.3)\n",
      "Requirement already satisfied: inquirer<5.0,>=2.10.0 in /home/studio-lab-user/.conda/envs/default/lib/python3.9/site-packages (from lightning) (3.1.3)\n",
      "Requirement already satisfied: torch<4.0,>=1.11.0 in /home/studio-lab-user/.conda/envs/default/lib/python3.9/site-packages (from lightning) (2.0.0)\n",
      "Requirement already satisfied: pytorch-lightning in /home/studio-lab-user/.conda/envs/default/lib/python3.9/site-packages (from lightning) (2.0.2)\n",
      "Requirement already satisfied: scipy>=1.7.0 in /home/studio-lab-user/.conda/envs/default/lib/python3.9/site-packages (from gensim) (1.10.1)\n",
      "Requirement already satisfied: smart-open>=1.8.1 in /home/studio-lab-user/.conda/envs/default/lib/python3.9/site-packages (from gensim) (6.3.0)\n",
      "Requirement already satisfied: python-dateutil>=2.7.0 in /home/studio-lab-user/.conda/envs/default/lib/python3.9/site-packages (from arrow<3.0,>=1.2.0->lightning) (2.8.2)\n",
      "Requirement already satisfied: soupsieve>1.2 in /home/studio-lab-user/.conda/envs/default/lib/python3.9/site-packages (from beautifulsoup4<6.0,>=4.8.0->lightning) (2.3.2.post1)\n",
      "Requirement already satisfied: pytz in /home/studio-lab-user/.conda/envs/default/lib/python3.9/site-packages (from dateutils<2.0->lightning) (2023.3)\n",
      "Requirement already satisfied: ordered-set<4.2.0,>=4.0.2 in /home/studio-lab-user/.conda/envs/default/lib/python3.9/site-packages (from deepdiff<8.0,>=5.7.0->lightning) (4.1.0)\n",
      "Requirement already satisfied: anyio<5,>=3.4.0 in /home/studio-lab-user/.conda/envs/default/lib/python3.9/site-packages (from starlette->lightning) (3.6.2)\n",
      "Requirement already satisfied: sniffio>=1.1 in /home/studio-lab-user/.conda/envs/default/lib/python3.9/site-packages (from anyio<5,>=3.4.0->starlette->lightning) (1.3.0)\n",
      "Requirement already satisfied: idna>=2.8 in /home/studio-lab-user/.conda/envs/default/lib/python3.9/site-packages (from anyio<5,>=3.4.0->starlette->lightning) (3.4)\n",
      "Requirement already satisfied: aiohttp!=4.0.0a0,!=4.0.0a1 in /home/studio-lab-user/.conda/envs/default/lib/python3.9/site-packages (from fsspec<2024.0,>=2022.5.0->lightning) (3.8.4)\n",
      "Requirement already satisfied: async-timeout<5.0,>=4.0.0a3 in /home/studio-lab-user/.conda/envs/default/lib/python3.9/site-packages (from aiohttp!=4.0.0a0,!=4.0.0a1->fsspec<2024.0,>=2022.5.0->lightning) (4.0.2)\n",
      "Requirement already satisfied: charset-normalizer<4.0,>=2.0 in /home/studio-lab-user/.conda/envs/default/lib/python3.9/site-packages (from aiohttp!=4.0.0a0,!=4.0.0a1->fsspec<2024.0,>=2022.5.0->lightning) (3.1.0)\n",
      "Requirement already satisfied: frozenlist>=1.1.1 in /home/studio-lab-user/.conda/envs/default/lib/python3.9/site-packages (from aiohttp!=4.0.0a0,!=4.0.0a1->fsspec<2024.0,>=2022.5.0->lightning) (1.3.3)\n",
      "Requirement already satisfied: aiosignal>=1.1.2 in /home/studio-lab-user/.conda/envs/default/lib/python3.9/site-packages (from aiohttp!=4.0.0a0,!=4.0.0a1->fsspec<2024.0,>=2022.5.0->lightning) (1.3.1)\n",
      "Requirement already satisfied: attrs>=17.3.0 in /home/studio-lab-user/.conda/envs/default/lib/python3.9/site-packages (from aiohttp!=4.0.0a0,!=4.0.0a1->fsspec<2024.0,>=2022.5.0->lightning) (22.1.0)\n",
      "Requirement already satisfied: multidict<7.0,>=4.5 in /home/studio-lab-user/.conda/envs/default/lib/python3.9/site-packages (from aiohttp!=4.0.0a0,!=4.0.0a1->fsspec<2024.0,>=2022.5.0->lightning) (6.0.4)\n",
      "Requirement already satisfied: yarl<2.0,>=1.0 in /home/studio-lab-user/.conda/envs/default/lib/python3.9/site-packages (from aiohttp!=4.0.0a0,!=4.0.0a1->fsspec<2024.0,>=2022.5.0->lightning) (1.9.2)\n",
      "Requirement already satisfied: blessed>=1.19.0 in /home/studio-lab-user/.conda/envs/default/lib/python3.9/site-packages (from inquirer<5.0,>=2.10.0->lightning) (1.20.0)\n",
      "Requirement already satisfied: python-editor>=1.0.4 in /home/studio-lab-user/.conda/envs/default/lib/python3.9/site-packages (from inquirer<5.0,>=2.10.0->lightning) (1.0.4)\n",
      "Requirement already satisfied: readchar>=3.0.6 in /home/studio-lab-user/.conda/envs/default/lib/python3.9/site-packages (from inquirer<5.0,>=2.10.0->lightning) (4.0.5)\n",
      "Requirement already satisfied: wcwidth>=0.1.4 in /home/studio-lab-user/.conda/envs/default/lib/python3.9/site-packages (from blessed>=1.19.0->inquirer<5.0,>=2.10.0->lightning) (0.2.5)\n",
      "Requirement already satisfied: six>=1.9.0 in /home/studio-lab-user/.conda/envs/default/lib/python3.9/site-packages (from blessed>=1.19.0->inquirer<5.0,>=2.10.0->lightning) (1.16.0)\n",
      "Requirement already satisfied: MarkupSafe>=2.0 in /home/studio-lab-user/.conda/envs/default/lib/python3.9/site-packages (from Jinja2<5.0->lightning) (2.1.1)\n",
      "Requirement already satisfied: pyjwt in /home/studio-lab-user/.conda/envs/default/lib/python3.9/site-packages (from lightning-cloud>=0.5.34->lightning) (2.6.0)\n",
      "Requirement already satisfied: python-multipart in /home/studio-lab-user/.conda/envs/default/lib/python3.9/site-packages (from lightning-cloud>=0.5.34->lightning) (0.0.6)\n",
      "Requirement already satisfied: pyparsing!=3.0.5,>=2.0.2 in /home/studio-lab-user/.conda/envs/default/lib/python3.9/site-packages (from packaging<25.0,>=17.1->lightning) (3.0.9)\n",
      "Requirement already satisfied: setuptools>=41.0 in /home/studio-lab-user/.conda/envs/default/lib/python3.9/site-packages (from readchar>=3.0.6->inquirer<5.0,>=2.10.0->lightning) (65.5.1)\n",
      "Requirement already satisfied: certifi>=2017.4.17 in /home/studio-lab-user/.conda/envs/default/lib/python3.9/site-packages (from requests<4.0->lightning) (2022.12.7)\n",
      "Requirement already satisfied: pygments<3.0.0,>=2.13.0 in /home/studio-lab-user/.conda/envs/default/lib/python3.9/site-packages (from rich<15.0,>=12.3.0->lightning) (2.13.0)\n",
      "Requirement already satisfied: markdown-it-py<3.0.0,>=2.2.0 in /home/studio-lab-user/.conda/envs/default/lib/python3.9/site-packages (from rich<15.0,>=12.3.0->lightning) (2.2.0)\n",
      "Requirement already satisfied: mdurl~=0.1 in /home/studio-lab-user/.conda/envs/default/lib/python3.9/site-packages (from markdown-it-py<3.0.0,>=2.2.0->rich<15.0,>=12.3.0->lightning) (0.1.2)\n",
      "Requirement already satisfied: itsdangerous<3.0.0,>=2.0.1 in /home/studio-lab-user/.conda/envs/default/lib/python3.9/site-packages (from starsessions<2.0,>=1.2.1->lightning) (2.1.2)\n",
      "Requirement already satisfied: networkx in /home/studio-lab-user/.conda/envs/default/lib/python3.9/site-packages (from torch<4.0,>=1.11.0->lightning) (3.1)\n",
      "Requirement already satisfied: sympy in /home/studio-lab-user/.conda/envs/default/lib/python3.9/site-packages (from torch<4.0,>=1.11.0->lightning) (1.11.1)\n",
      "Requirement already satisfied: filelock in /home/studio-lab-user/.conda/envs/default/lib/python3.9/site-packages (from torch<4.0,>=1.11.0->lightning) (3.12.0)\n",
      "Requirement already satisfied: nvidia-cuda-cupti-cu11==11.7.101 in /home/studio-lab-user/.conda/envs/default/lib/python3.9/site-packages (from torch<4.0,>=1.11.0->lightning) (11.7.101)\n",
      "Requirement already satisfied: nvidia-cusolver-cu11==11.4.0.1 in /home/studio-lab-user/.conda/envs/default/lib/python3.9/site-packages (from torch<4.0,>=1.11.0->lightning) (11.4.0.1)\n",
      "Requirement already satisfied: nvidia-nvtx-cu11==11.7.91 in /home/studio-lab-user/.conda/envs/default/lib/python3.9/site-packages (from torch<4.0,>=1.11.0->lightning) (11.7.91)\n",
      "Requirement already satisfied: nvidia-cudnn-cu11==8.5.0.96 in /home/studio-lab-user/.conda/envs/default/lib/python3.9/site-packages (from torch<4.0,>=1.11.0->lightning) (8.5.0.96)\n",
      "Requirement already satisfied: nvidia-cuda-nvrtc-cu11==11.7.99 in /home/studio-lab-user/.conda/envs/default/lib/python3.9/site-packages (from torch<4.0,>=1.11.0->lightning) (11.7.99)\n",
      "Requirement already satisfied: nvidia-cublas-cu11==11.10.3.66 in /home/studio-lab-user/.conda/envs/default/lib/python3.9/site-packages (from torch<4.0,>=1.11.0->lightning) (11.10.3.66)\n",
      "Requirement already satisfied: nvidia-curand-cu11==10.2.10.91 in /home/studio-lab-user/.conda/envs/default/lib/python3.9/site-packages (from torch<4.0,>=1.11.0->lightning) (10.2.10.91)\n",
      "Requirement already satisfied: triton==2.0.0 in /home/studio-lab-user/.conda/envs/default/lib/python3.9/site-packages (from torch<4.0,>=1.11.0->lightning) (2.0.0)\n",
      "Requirement already satisfied: nvidia-cufft-cu11==10.9.0.58 in /home/studio-lab-user/.conda/envs/default/lib/python3.9/site-packages (from torch<4.0,>=1.11.0->lightning) (10.9.0.58)\n",
      "Requirement already satisfied: nvidia-cusparse-cu11==11.7.4.91 in /home/studio-lab-user/.conda/envs/default/lib/python3.9/site-packages (from torch<4.0,>=1.11.0->lightning) (11.7.4.91)\n",
      "Requirement already satisfied: nvidia-nccl-cu11==2.14.3 in /home/studio-lab-user/.conda/envs/default/lib/python3.9/site-packages (from torch<4.0,>=1.11.0->lightning) (2.14.3)\n",
      "Requirement already satisfied: nvidia-cuda-runtime-cu11==11.7.99 in /home/studio-lab-user/.conda/envs/default/lib/python3.9/site-packages (from torch<4.0,>=1.11.0->lightning) (11.7.99)\n",
      "Requirement already satisfied: wheel in /home/studio-lab-user/.conda/envs/default/lib/python3.9/site-packages (from nvidia-cublas-cu11==11.10.3.66->torch<4.0,>=1.11.0->lightning) (0.38.4)\n",
      "Requirement already satisfied: cmake in /home/studio-lab-user/.conda/envs/default/lib/python3.9/site-packages (from triton==2.0.0->torch<4.0,>=1.11.0->lightning) (3.26.3)\n",
      "Requirement already satisfied: lit in /home/studio-lab-user/.conda/envs/default/lib/python3.9/site-packages (from triton==2.0.0->torch<4.0,>=1.11.0->lightning) (16.0.2)\n",
      "Requirement already satisfied: h11>=0.8 in /home/studio-lab-user/.conda/envs/default/lib/python3.9/site-packages (from uvicorn<2.0->lightning) (0.14.0)\n",
      "Requirement already satisfied: mpmath>=0.19 in /home/studio-lab-user/.conda/envs/default/lib/python3.9/site-packages (from sympy->torch<4.0,>=1.11.0->lightning) (1.3.0)\n"
     ]
    }
   ],
   "source": [
    "!python -m pip install lightning gensim wandb"
   ]
  },
  {
   "cell_type": "code",
   "execution_count": 2,
   "id": "04744170-38c0-4633-8ad6-c6363d2fcbc1",
   "metadata": {},
   "outputs": [],
   "source": [
    "import os\n",
    "from argparse import ArgumentParser\n",
    "\n",
    "import lightning as pl\n",
    "import torch\n",
    "import numpy as np\n",
    "from gensim.models import Word2Vec\n",
    "from loader import PlaylistDataset\n",
    "from model import TransformerModel\n",
    "from train import MaskedLanguageModel\n",
    "from transform import *"
   ]
  },
  {
   "cell_type": "code",
   "execution_count": 3,
   "id": "992c8764-d249-48c3-9851-d4d829f55b03",
   "metadata": {},
   "outputs": [],
   "source": [
    "PAD_TOKEN = 0\n",
    "\n",
    "MODEL_PATH = \"../models/song2vec\"\n",
    "DATA_PATH =\"../data\"\n",
    "\n",
    "NHEADS = 4\n",
    "NLAYERS = 2\n",
    "DROPOUT = .2\n",
    "DHIDDEN = 256\n",
    "\n",
    "SEQLEN = 75\n",
    "PPF = 50000\n",
    "\n",
    "BATCH_SIZE = 48"
   ]
  },
  {
   "cell_type": "code",
   "execution_count": 4,
   "id": "f8052a90-eda4-42ae-a2e0-a49cef8be785",
   "metadata": {},
   "outputs": [],
   "source": [
    "wv = Word2Vec.load(MODEL_PATH).wv\n",
    "dim = wv.vectors.shape[1]\n",
    "# TODO save padding vector\n",
    "embeddings = np.concatenate((np.random.normal(size=(1, dim)), wv.vectors), axis=0)\n",
    "transformer = TransformerModel(\n",
    "    embeddings=torch.tensor(embeddings),\n",
    "    nhead=NHEADS,\n",
    "    nlayers=NLAYERS,\n",
    "    dropout=DROPOUT,\n",
    "    d_hid=DHIDDEN\n",
    ")\n",
    "m = MaskedLanguageModel(transformer, PAD_TOKEN, device=\"cuda\")"
   ]
  },
  {
   "cell_type": "code",
   "execution_count": 5,
   "id": "b9ff66cb-4be4-483b-a3a4-89d8995ea04b",
   "metadata": {},
   "outputs": [
    {
     "name": "stdout",
     "output_type": "stream",
     "text": [
      "['../data/chunk_0.json', '../data/chunk_1.json', '../data/chunk_10.json', '../data/chunk_11.json', '../data/chunk_12.json', '../data/chunk_13.json', '../data/chunk_14.json', '../data/chunk_15.json', '../data/chunk_16.json', '../data/chunk_17.json', '../data/chunk_18.json', '../data/chunk_19.json', '../data/chunk_2.json', '../data/chunk_3.json', '../data/chunk_4.json', '../data/chunk_5.json', '../data/chunk_6.json', '../data/chunk_7.json', '../data/chunk_8.json', '../data/chunk_9.json']\n"
     ]
    }
   ],
   "source": [
    "files = sorted([os.path.join(DATA_PATH, f) for f in os.listdir(DATA_PATH) if \".json\" in f])\n",
    "print(files)\n",
    "\n",
    "transforms = Compose(\n",
    "    RemoveUnknownTracks(wv.key_to_index.keys()),\n",
    "    TrackURI2Idx(wv.key_to_index, offset=1),\n",
    "    PadOrTrim(PAD_TOKEN, SEQLEN),\n",
    "    ToLongTensor()\n",
    ")\n",
    "\n",
    "ds = PlaylistDataset(files, playlist_per_file=PPF, transform=transforms)\n",
    "loader = torch.utils.data.DataLoader(ds, batch_size=BATCH_SIZE, shuffle=False)"
   ]
  },
  {
   "cell_type": "code",
   "execution_count": 12,
   "id": "ba952dd2-2a73-480e-a404-3f971f3bc252",
   "metadata": {},
   "outputs": [
    {
     "name": "stderr",
     "output_type": "stream",
     "text": [
      "\u001b[34m\u001b[1mwandb\u001b[0m: Currently logged in as: \u001b[33mricsi\u001b[0m. Use \u001b[1m`wandb login --relogin`\u001b[0m to force relogin\n"
     ]
    },
    {
     "data": {
      "text/html": [
       "Tracking run with wandb version 0.15.0"
      ],
      "text/plain": [
       "<IPython.core.display.HTML object>"
      ]
     },
     "metadata": {},
     "output_type": "display_data"
    },
    {
     "data": {
      "text/html": [
       "Run data is saved locally in <code>./wandb/run-20230502_132935-f881jx5z</code>"
      ],
      "text/plain": [
       "<IPython.core.display.HTML object>"
      ]
     },
     "metadata": {},
     "output_type": "display_data"
    },
    {
     "data": {
      "text/html": [
       "Syncing run <strong><a href='https://wandb.ai/ricsi/song2vec_transformer/runs/f881jx5z' target=\"_blank\">worthy-wood-1</a></strong> to <a href='https://wandb.ai/ricsi/song2vec_transformer' target=\"_blank\">Weights & Biases</a> (<a href='https://wandb.me/run' target=\"_blank\">docs</a>)<br/>"
      ],
      "text/plain": [
       "<IPython.core.display.HTML object>"
      ]
     },
     "metadata": {},
     "output_type": "display_data"
    },
    {
     "data": {
      "text/html": [
       " View project at <a href='https://wandb.ai/ricsi/song2vec_transformer' target=\"_blank\">https://wandb.ai/ricsi/song2vec_transformer</a>"
      ],
      "text/plain": [
       "<IPython.core.display.HTML object>"
      ]
     },
     "metadata": {},
     "output_type": "display_data"
    },
    {
     "data": {
      "text/html": [
       " View run at <a href='https://wandb.ai/ricsi/song2vec_transformer/runs/f881jx5z' target=\"_blank\">https://wandb.ai/ricsi/song2vec_transformer/runs/f881jx5z</a>"
      ],
      "text/plain": [
       "<IPython.core.display.HTML object>"
      ]
     },
     "metadata": {},
     "output_type": "display_data"
    },
    {
     "name": "stderr",
     "output_type": "stream",
     "text": [
      "INFO:pytorch_lightning.utilities.rank_zero:GPU available: True (cuda), used: True\n",
      "INFO:pytorch_lightning.utilities.rank_zero:TPU available: False, using: 0 TPU cores\n",
      "INFO:pytorch_lightning.utilities.rank_zero:IPU available: False, using: 0 IPUs\n",
      "INFO:pytorch_lightning.utilities.rank_zero:HPU available: False, using: 0 HPUs\n",
      "\u001b[34m\u001b[1mwandb\u001b[0m: logging graph, to disable use `wandb.watch(log_graph=False)`\n"
     ]
    }
   ],
   "source": [
    "from pytorch_lightning.loggers import WandbLogger\n",
    "\n",
    "wandb_logger = WandbLogger(project=\"song2vec_transformer\", log_model=\"all\")\n",
    "trainer = pl.Trainer(gradient_clip_val=0.5, accumulate_grad_batches=4, logger=wandb_logger)\n",
    "wandb_logger.watch(m)"
   ]
  },
  {
   "cell_type": "code",
   "execution_count": 13,
   "id": "8317f34d-5bc5-4675-bbd5-713b91b52292",
   "metadata": {
    "tags": []
   },
   "outputs": [
    {
     "name": "stderr",
     "output_type": "stream",
     "text": [
      "/home/studio-lab-user/.conda/envs/default/lib/python3.9/site-packages/lightning/pytorch/loops/utilities.py:70: PossibleUserWarning: `max_epochs` was not set. Setting it to 1000 epochs. To train without an epoch limit, set `max_epochs=-1`.\n",
      "  rank_zero_warn(\n",
      "/home/studio-lab-user/.conda/envs/default/lib/python3.9/site-packages/lightning/pytorch/trainer/configuration_validator.py:72: PossibleUserWarning: You defined a `validation_step` but have no `val_dataloader`. Skipping val loop.\n",
      "  rank_zero_warn(\n",
      "LOCAL_RANK: 0 - CUDA_VISIBLE_DEVICES: [0]\n",
      "\n",
      "  | Name  | Type             | Params\n",
      "-------------------------------------------\n",
      "0 | model | TransformerModel | 36.1 M\n",
      "-------------------------------------------\n",
      "100.0 K   Trainable params\n",
      "36.0 M    Non-trainable params\n",
      "36.1 M    Total params\n",
      "144.383   Total estimated model params size (MB)\n",
      "/home/studio-lab-user/.conda/envs/default/lib/python3.9/site-packages/lightning/pytorch/trainer/connectors/data_connector.py:430: PossibleUserWarning: The dataloader, train_dataloader, does not have many workers which may be a bottleneck. Consider increasing the value of the `num_workers` argument` (try 4 which is the number of cpus on this machine) in the `DataLoader` init to improve performance.\n",
      "  rank_zero_warn(\n"
     ]
    },
    {
     "data": {
      "application/vnd.jupyter.widget-view+json": {
       "model_id": "5f44b6b0bd9040728b3319eafc1f1f8a",
       "version_major": 2,
       "version_minor": 0
      },
      "text/plain": [
       "Training: 0it [00:00, ?it/s]"
      ]
     },
     "metadata": {},
     "output_type": "display_data"
    },
    {
     "name": "stderr",
     "output_type": "stream",
     "text": [
      "/home/studio-lab-user/.conda/envs/default/lib/python3.9/site-packages/torch/nn/functional.py:4999: UserWarning: Support for mismatched src_key_padding_mask and src_mask is deprecated. Use same type for both instead.\n",
      "  warnings.warn(\n",
      "/home/studio-lab-user/.conda/envs/default/lib/python3.9/site-packages/torch/nn/functional.py:4999: UserWarning: Support for mismatched key_padding_mask and attn_mask is deprecated. Use same type for both instead.\n",
      "  warnings.warn(\n",
      "/home/studio-lab-user/.conda/envs/default/lib/python3.9/site-packages/lightning/pytorch/trainer/call.py:54: UserWarning: Detected KeyboardInterrupt, attempting graceful shutdown...\n",
      "  rank_zero_warn(\"Detected KeyboardInterrupt, attempting graceful shutdown...\")\n"
     ]
    }
   ],
   "source": [
    "trainer.fit(m, loader)"
   ]
  },
  {
   "cell_type": "code",
   "execution_count": 16,
   "id": "ab560847-074f-476d-9215-b99248d3806d",
   "metadata": {},
   "outputs": [],
   "source": [
    "model = m.model.to(\"cpu\")"
   ]
  },
  {
   "cell_type": "code",
   "execution_count": 17,
   "id": "3afe27cc-4f1b-46f3-8ff7-48a7e69615ed",
   "metadata": {},
   "outputs": [],
   "source": [
    "torch.save(model.state_dict(), \"../models/transformer/transformer_model.pt\")"
   ]
  },
  {
   "cell_type": "code",
   "execution_count": 25,
   "id": "c7647f5c-cb39-45bd-b86e-dbea8e3af7ba",
   "metadata": {},
   "outputs": [
    {
     "data": {
      "text/plain": [
       "<All keys matched successfully>"
      ]
     },
     "execution_count": 25,
     "metadata": {},
     "output_type": "execute_result"
    }
   ],
   "source": [
    "m2 = TransformerModel(\n",
    "    embeddings=torch.tensor(embeddings),\n",
    "    nhead=NHEADS,\n",
    "    nlayers=NLAYERS,\n",
    "    dropout=DROPOUT,\n",
    "    d_hid=DHIDDEN\n",
    ")\n",
    "m2.load_state_dict(torch.load(\"../models/transformer/transformer_model.pt\", map_location=\"cpu\"))"
   ]
  },
  {
   "cell_type": "code",
   "execution_count": 26,
   "id": "c015f712-a444-4c6b-a2c0-46091878f56b",
   "metadata": {},
   "outputs": [],
   "source": [
    "for p1, p2 in zip(model.parameters(), m2.parameters()):\n",
    "    assert torch.allclose(p1, p2)"
   ]
  },
  {
   "cell_type": "code",
   "execution_count": null,
   "id": "ab0c63cf-1925-49c2-b332-18b4e0a438bc",
   "metadata": {},
   "outputs": [],
   "source": []
  }
 ],
 "metadata": {
  "kernelspec": {
   "display_name": "Python 3 (ipykernel)",
   "language": "python",
   "name": "python3"
  },
  "language_info": {
   "codemirror_mode": {
    "name": "ipython",
    "version": 3
   },
   "file_extension": ".py",
   "mimetype": "text/x-python",
   "name": "python",
   "nbconvert_exporter": "python",
   "pygments_lexer": "ipython3",
   "version": "3.10.6"
  }
 },
 "nbformat": 4,
 "nbformat_minor": 5
}

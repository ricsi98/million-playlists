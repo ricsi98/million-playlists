{
 "cells": [
  {
   "cell_type": "code",
   "execution_count": 63,
   "id": "83426eed-bdd4-465f-98fc-e12607399f27",
   "metadata": {},
   "outputs": [],
   "source": [
    "import numpy as np\n",
    "import random\n",
    "import logging\n",
    "import json\n",
    "\n",
    "from collections import Counter"
   ]
  },
  {
   "cell_type": "code",
   "execution_count": 14,
   "id": "7dcba5c4-c32a-4376-8060-65a54428b4b7",
   "metadata": {},
   "outputs": [],
   "source": [
    "class PopularRecommender:\n",
    "    \n",
    "    def __init__(self, freqs, song2ids):\n",
    "        c = Counter(freqs)\n",
    "        ids2song = {v:k for k,v in song2ids.items()}\n",
    "        self.rec = [(ids2song[int(s)], f) for s,f in c.most_common(len(c))]\n",
    "        self.rec = list(zip(*self.rec))\n",
    "        \n",
    "    def recommend(self, songs, k=500):\n",
    "        return self.rec[0][:k], self.rec[1][:k]\n",
    "    \n",
    "    \n",
    "from scipy.sparse import csr_matrix\n",
    "    \n",
    "class SparseKNNRecommender:\n",
    "    \n",
    "    def __init__(self, R, song2idx, idx2song, fallback, max_playlists=500):\n",
    "        self.R = R\n",
    "        self.song2idx = song2idx\n",
    "        self.idx2song = idx2song\n",
    "        self.known_songs = set(self.song2idx.keys())\n",
    "        self.fallback = fallback\n",
    "        self.max_playlists = max_playlists\n",
    "        \n",
    "    def _convert_playlist(self, indices):\n",
    "        z = np.ones_like(indices, dtype=np.int64)\n",
    "        return csr_matrix((z, (indices, z*0)), shape=(self.R.shape[1], 1))\n",
    "        \n",
    "    def recommend(self, songs, k=500):\n",
    "        assert isinstance(songs, list), \"Must provide list!\"\n",
    "        songs = list(filter(lambda song: song in self.known_songs, songs))\n",
    "        if len(songs) == 0:\n",
    "            #print(\"Using fallback\")\n",
    "            return self.fallback.recommend(songs)\n",
    "        indices = [self.song2idx[song] for song in songs]\n",
    "        songs = self._convert_playlist(indices)\n",
    "        scores = self.R @ songs\n",
    "        score_idx = scores.nonzero()[0]\n",
    "        # select top n playlists\n",
    "        if len(score_idx) > self.max_playlists:\n",
    "            score_value = scores[score_idx, 0].todense()\n",
    "            score_value = np.array(score_value).flatten()\n",
    "            order = np.argsort(score_value)[::-1][:self.max_playlists]\n",
    "            score_idx = score_idx[order]\n",
    "        # collect songs\n",
    "        # TODO: sort only nonzero elements\n",
    "        z = self.R[score_idx].sum(axis=0)\n",
    "        nz = z.nonzero()[1]\n",
    "        values = np.array(z[0, nz]).flatten()\n",
    "        order = np.argsort(values)[-k-len(indices):][::-1]\n",
    "        rec = [idx for idx in nz[order] if idx not in indices][:k]\n",
    "        return [self.idx2song[idx] for idx in rec], [1] * len(rec)\n",
    "    \n",
    "    \n",
    "from functools import reduce\n",
    "from collections import Counter\n",
    "    \n",
    "class DictionaryRecommender:\n",
    "    \n",
    "    def __init__(self, song2idx, idx2song, songs, playlists, fallback, max_playlists=500):\n",
    "        self.song2idx = song2idx\n",
    "        self.known_songs = set(song2idx.keys())\n",
    "        self.idx2song = idx2song\n",
    "        self.songs = songs\n",
    "        self.playlists = playlists\n",
    "        self.fallback = fallback\n",
    "        self.max_playlists = max_playlists\n",
    "        \n",
    "    def recommend(self, songs, k=500):\n",
    "        assert isinstance(songs, list), \"Must provide list!\"\n",
    "        songs = list(filter(lambda song: song in self.known_songs, songs))\n",
    "        if len(songs) == 0:\n",
    "            return self.fallback.recommend(songs)\n",
    "        indices = [self.song2idx[song] for song in songs]\n",
    "        # find playlists that contain songs\n",
    "        pls = reduce(list.__add__, (self.songs[idx] for idx in indices))\n",
    "        pc = Counter(pls)\n",
    "        common_pls = pc.most_common(self.max_playlists)\n",
    "        # find songs in playlists\n",
    "        common_songs = reduce(list.__add__, (self.playlists[pl] for pl,_ in common_pls))\n",
    "        sc = Counter(common_songs)\n",
    "        rsongs, rscores = list(zip(*sc.most_common(k)))\n",
    "        rsongs = [self.idx2song[idx] for idx in rsongs]\n",
    "        return rsongs, rscores"
   ]
  },
  {
   "cell_type": "code",
   "execution_count": 9,
   "id": "b7b56d1e-cdea-4e88-a781-385b395e4e30",
   "metadata": {},
   "outputs": [],
   "source": [
    "import os\n",
    "import json\n",
    "\n",
    "def load_dictionary_based(path):\n",
    "    with open(os.path.join(path, \"idx2song.json\")) as f:\n",
    "        idx2song = json.load(f)\n",
    "        idx2song = {int(k):v for k,v in idx2song.items()}\n",
    "    song2idx = {v:k for k,v in idx2song.items()}\n",
    "    with open(os.path.join(path, \"songs.json\")) as f:\n",
    "        songs = {int(k):[int(vi) for vi in v] for k,v in json.load(f).items()}\n",
    "    with open(os.path.join(path, \"playlists.json\")) as f:\n",
    "        playlists = {int(k):[int(vi) for vi in v] for k,v in json.load(f).items()}\n",
    "    return song2idx, idx2song, songs, playlists \n",
    "\n",
    "model = load_dictionary_based(\"../models/sparse_dictionary/\")\n",
    "freqs = json.load(open(\"../models/sparse_full/frequencies.json\"))"
   ]
  },
  {
   "cell_type": "code",
   "execution_count": null,
   "id": "177ab0e5-1f1b-441f-832b-bc71f9a88734",
   "metadata": {
    "collapsed": true,
    "jupyter": {
     "outputs_hidden": true
    },
    "tags": []
   },
   "outputs": [
    {
     "ename": "NameError",
     "evalue": "name 'json' is not defined",
     "output_type": "error",
     "traceback": [
      "\u001b[0;31m---------------------------------------------------------------------------\u001b[0m",
      "\u001b[0;31mNameError\u001b[0m                                 Traceback (most recent call last)",
      "Cell \u001b[0;32mIn[6], line 13\u001b[0m\n\u001b[1;32m     10\u001b[0m         songs \u001b[38;5;241m=\u001b[39m json\u001b[38;5;241m.\u001b[39mload(f)\n\u001b[1;32m     11\u001b[0m     \u001b[38;5;28;01mreturn\u001b[39;00m R, song2idx, idx2song\n\u001b[0;32m---> 13\u001b[0m model \u001b[38;5;241m=\u001b[39m \u001b[43mload_sparse\u001b[49m\u001b[43m(\u001b[49m\u001b[38;5;124;43m\"\u001b[39;49m\u001b[38;5;124;43m../models/sparse_full\u001b[39;49m\u001b[38;5;124;43m\"\u001b[39;49m\u001b[43m)\u001b[49m\n\u001b[1;32m     14\u001b[0m freqs \u001b[38;5;241m=\u001b[39m json\u001b[38;5;241m.\u001b[39mload(\u001b[38;5;28mopen\u001b[39m(\u001b[38;5;124m\"\u001b[39m\u001b[38;5;124m../models/sparse_full/frequencies.json\u001b[39m\u001b[38;5;124m\"\u001b[39m))\n",
      "Cell \u001b[0;32mIn[6], line 6\u001b[0m, in \u001b[0;36mload_sparse\u001b[0;34m(path)\u001b[0m\n\u001b[1;32m      4\u001b[0m \u001b[38;5;28;01mdef\u001b[39;00m \u001b[38;5;21mload_sparse\u001b[39m(path):\n\u001b[1;32m      5\u001b[0m     \u001b[38;5;28;01mwith\u001b[39;00m \u001b[38;5;28mopen\u001b[39m(os\u001b[38;5;241m.\u001b[39mpath\u001b[38;5;241m.\u001b[39mjoin(path, \u001b[38;5;124m\"\u001b[39m\u001b[38;5;124midx2song.json\u001b[39m\u001b[38;5;124m\"\u001b[39m)) \u001b[38;5;28;01mas\u001b[39;00m f:\n\u001b[0;32m----> 6\u001b[0m         idx2song \u001b[38;5;241m=\u001b[39m \u001b[43mjson\u001b[49m\u001b[38;5;241m.\u001b[39mload(f)\n\u001b[1;32m      7\u001b[0m         idx2song \u001b[38;5;241m=\u001b[39m {\u001b[38;5;28mint\u001b[39m(k):v \u001b[38;5;28;01mfor\u001b[39;00m k,v \u001b[38;5;129;01min\u001b[39;00m idx2song\u001b[38;5;241m.\u001b[39mitems()}\n\u001b[1;32m      8\u001b[0m     song2idx \u001b[38;5;241m=\u001b[39m {v:k \u001b[38;5;28;01mfor\u001b[39;00m k,v \u001b[38;5;129;01min\u001b[39;00m idx2song\u001b[38;5;241m.\u001b[39mitems()}\n",
      "\u001b[0;31mNameError\u001b[0m: name 'json' is not defined"
     ]
    }
   ],
   "source": [
    "import os\n",
    "from scipy.sparse import load_npz\n",
    "\n",
    "def load_sparse(path):\n",
    "    with open(os.path.join(path, \"idx2song.json\")) as f:\n",
    "        idx2song = json.load(f)\n",
    "        idx2song = {int(k):v for k,v in idx2song.items()}\n",
    "    song2idx = {v:k for k,v in idx2song.items()}\n",
    "    R = load_npz(os.path.join(path, \"r.npz\"))\n",
    "    return R, song2idx, idx2song\n",
    "\n",
    "model = load_sparse(\"../models/sparse_full\")\n",
    "freqs = json.load(open(\"../models/sparse_full/frequencies.json\"))"
   ]
  },
  {
   "cell_type": "code",
   "execution_count": 11,
   "id": "e07b3314-99f1-4801-a9f6-111a932959bc",
   "metadata": {},
   "outputs": [],
   "source": [
    "r_pop = PopularRecommender(freqs, model[0])\n",
    "#r = SparseKNNRecommender(*model, r_pop, 500)\n",
    "r = DictionaryRecommender(*model, r_pop, 500)"
   ]
  },
  {
   "cell_type": "code",
   "execution_count": 12,
   "id": "99a27897-9902-44be-b847-4a204831bf11",
   "metadata": {},
   "outputs": [],
   "source": [
    "import json\n",
    "with open(\"../data/test/challenge_set.json\") as f:\n",
    "    test = json.load(f)"
   ]
  },
  {
   "cell_type": "code",
   "execution_count": 16,
   "id": "59e1ef15-7164-45a2-b52c-066af3a53b5c",
   "metadata": {
    "tags": []
   },
   "outputs": [
    {
     "name": "stderr",
     "output_type": "stream",
     "text": [
      " 22%|████████▍                             | 2204/10000 [00:55<03:17, 39.40it/s]\n"
     ]
    },
    {
     "ename": "KeyboardInterrupt",
     "evalue": "",
     "output_type": "error",
     "traceback": [
      "\u001b[0;31m---------------------------------------------------------------------------\u001b[0m",
      "\u001b[0;31mKeyboardInterrupt\u001b[0m                         Traceback (most recent call last)",
      "Cell \u001b[0;32mIn[16], line 11\u001b[0m\n\u001b[1;32m      9\u001b[0m \u001b[38;5;28;01melse\u001b[39;00m:\n\u001b[1;32m     10\u001b[0m     tracks \u001b[38;5;241m=\u001b[39m []\n\u001b[0;32m---> 11\u001b[0m recs, _ \u001b[38;5;241m=\u001b[39m \u001b[43mr\u001b[49m\u001b[38;5;241;43m.\u001b[39;49m\u001b[43mrecommend\u001b[49m\u001b[43m(\u001b[49m\u001b[43mtracks\u001b[49m\u001b[43m,\u001b[49m\u001b[43m \u001b[49m\u001b[43mk\u001b[49m\u001b[38;5;241;43m=\u001b[39;49m\u001b[38;5;241;43m500\u001b[39;49m\u001b[43m)\u001b[49m\n\u001b[1;32m     12\u001b[0m \u001b[38;5;28;01massert\u001b[39;00m \u001b[38;5;28mlen\u001b[39m(recs) \u001b[38;5;241m==\u001b[39m \u001b[38;5;241m500\u001b[39m, \u001b[38;5;124mf\u001b[39m\u001b[38;5;124m\"\u001b[39m\u001b[38;5;132;01m{\u001b[39;00mpid\u001b[38;5;132;01m}\u001b[39;00m\u001b[38;5;124m: \u001b[39m\u001b[38;5;132;01m{\u001b[39;00m\u001b[38;5;28mlen\u001b[39m(recs)\u001b[38;5;132;01m}\u001b[39;00m\u001b[38;5;124m\"\u001b[39m\n\u001b[1;32m     13\u001b[0m row \u001b[38;5;241m=\u001b[39m \u001b[38;5;124m\"\u001b[39m\u001b[38;5;124m,\u001b[39m\u001b[38;5;124m\"\u001b[39m\u001b[38;5;241m.\u001b[39mjoin([\u001b[38;5;28mstr\u001b[39m(z) \u001b[38;5;28;01mfor\u001b[39;00m z \u001b[38;5;129;01min\u001b[39;00m [pid] \u001b[38;5;241m+\u001b[39m \u001b[38;5;28mlist\u001b[39m(recs)])\n",
      "Cell \u001b[0;32mIn[14], line 80\u001b[0m, in \u001b[0;36mDictionaryRecommender.recommend\u001b[0;34m(self, songs, k)\u001b[0m\n\u001b[1;32m     78\u001b[0m common_pls \u001b[38;5;241m=\u001b[39m pc\u001b[38;5;241m.\u001b[39mmost_common(\u001b[38;5;28mself\u001b[39m\u001b[38;5;241m.\u001b[39mmax_playlists)\n\u001b[1;32m     79\u001b[0m \u001b[38;5;66;03m# find songs in playlists\u001b[39;00m\n\u001b[0;32m---> 80\u001b[0m common_songs \u001b[38;5;241m=\u001b[39m \u001b[43mreduce\u001b[49m\u001b[43m(\u001b[49m\u001b[38;5;28;43mlist\u001b[39;49m\u001b[38;5;241;43m.\u001b[39;49m\u001b[38;5;21;43m__add__\u001b[39;49m\u001b[43m,\u001b[49m\u001b[43m \u001b[49m\u001b[43m(\u001b[49m\u001b[38;5;28;43mself\u001b[39;49m\u001b[38;5;241;43m.\u001b[39;49m\u001b[43mplaylists\u001b[49m\u001b[43m[\u001b[49m\u001b[43mpl\u001b[49m\u001b[43m]\u001b[49m\u001b[43m \u001b[49m\u001b[38;5;28;43;01mfor\u001b[39;49;00m\u001b[43m \u001b[49m\u001b[43mpl\u001b[49m\u001b[43m,\u001b[49m\u001b[43m_\u001b[49m\u001b[43m \u001b[49m\u001b[38;5;129;43;01min\u001b[39;49;00m\u001b[43m \u001b[49m\u001b[43mcommon_pls\u001b[49m\u001b[43m)\u001b[49m\u001b[43m)\u001b[49m\n\u001b[1;32m     81\u001b[0m sc \u001b[38;5;241m=\u001b[39m Counter(common_songs)\n\u001b[1;32m     82\u001b[0m rsongs, rscores \u001b[38;5;241m=\u001b[39m \u001b[38;5;28mlist\u001b[39m(\u001b[38;5;28mzip\u001b[39m(\u001b[38;5;241m*\u001b[39msc\u001b[38;5;241m.\u001b[39mmost_common(k)))\n",
      "Cell \u001b[0;32mIn[14], line 80\u001b[0m, in \u001b[0;36m<genexpr>\u001b[0;34m(.0)\u001b[0m\n\u001b[1;32m     78\u001b[0m common_pls \u001b[38;5;241m=\u001b[39m pc\u001b[38;5;241m.\u001b[39mmost_common(\u001b[38;5;28mself\u001b[39m\u001b[38;5;241m.\u001b[39mmax_playlists)\n\u001b[1;32m     79\u001b[0m \u001b[38;5;66;03m# find songs in playlists\u001b[39;00m\n\u001b[0;32m---> 80\u001b[0m common_songs \u001b[38;5;241m=\u001b[39m reduce(\u001b[38;5;28mlist\u001b[39m\u001b[38;5;241m.\u001b[39m\u001b[38;5;21m__add__\u001b[39m, (\u001b[38;5;28mself\u001b[39m\u001b[38;5;241m.\u001b[39mplaylists[pl] \u001b[38;5;28;01mfor\u001b[39;00m pl,_ \u001b[38;5;129;01min\u001b[39;00m common_pls))\n\u001b[1;32m     81\u001b[0m sc \u001b[38;5;241m=\u001b[39m Counter(common_songs)\n\u001b[1;32m     82\u001b[0m rsongs, rscores \u001b[38;5;241m=\u001b[39m \u001b[38;5;28mlist\u001b[39m(\u001b[38;5;28mzip\u001b[39m(\u001b[38;5;241m*\u001b[39msc\u001b[38;5;241m.\u001b[39mmost_common(k)))\n",
      "\u001b[0;31mKeyboardInterrupt\u001b[0m: "
     ]
    }
   ],
   "source": [
    "from tqdm import tqdm\n",
    "\n",
    "result = []\n",
    "for pl in tqdm(test[\"playlists\"]):\n",
    "    pid = pl[\"pid\"]\n",
    "    pl = pl[\"tracks\"]\n",
    "    if len(pl) > 0:\n",
    "        tracks = [t[\"track_uri\"] for t in pl]\n",
    "    else:\n",
    "        tracks = []\n",
    "    recs, _ = r.recommend(tracks, k=500)\n",
    "    assert len(recs) == 500, f\"{pid}: {len(recs)}\"\n",
    "    row = \",\".join([str(z) for z in [pid] + list(recs)])\n",
    "    result.append(row)"
   ]
  },
  {
   "cell_type": "code",
   "execution_count": null,
   "id": "b7f8c8cf-97c4-4117-baca-85bf2fb4f47e",
   "metadata": {},
   "outputs": [],
   "source": [
    "result = [\"team info, team name,98kissricsi@gmail.com\"] + result"
   ]
  },
  {
   "cell_type": "code",
   "execution_count": 13,
   "id": "b7c14c29-2c40-4dd5-9942-0ecaa57c96b9",
   "metadata": {},
   "outputs": [
    {
     "data": {
      "text/plain": [
       "Counter({0: 1000, 5: 2000, 10: 2000, 25: 2000, 100: 2000, 1: 1000})"
      ]
     },
     "execution_count": 13,
     "metadata": {},
     "output_type": "execute_result"
    }
   ],
   "source": [
    "Counter([len(z[\"tracks\"]) for z in test[\"playlists\"]])"
   ]
  },
  {
   "cell_type": "code",
   "execution_count": null,
   "id": "8fea8754-3386-42c7-9406-89de93de372c",
   "metadata": {},
   "outputs": [],
   "source": []
  }
 ],
 "metadata": {
  "kernelspec": {
   "display_name": "Python 3 (ipykernel)",
   "language": "python",
   "name": "python3"
  },
  "language_info": {
   "codemirror_mode": {
    "name": "ipython",
    "version": 3
   },
   "file_extension": ".py",
   "mimetype": "text/x-python",
   "name": "python",
   "nbconvert_exporter": "python",
   "pygments_lexer": "ipython3",
   "version": "3.10.6"
  }
 },
 "nbformat": 4,
 "nbformat_minor": 5
}
